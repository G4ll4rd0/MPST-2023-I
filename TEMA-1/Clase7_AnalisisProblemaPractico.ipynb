{
 "cells": [
  {
   "cell_type": "markdown",
   "id": "6fcf5aa6",
   "metadata": {},
   "source": [
    "___\n",
    "<img style=\"float: right; margin: 0px 0px 15px 15px;\" src=\"https://miro.medium.com/max/974/1*doaqR0rl1TZtevGrWjcS4g.png\" width=\"500px\" height=\"100px\" />\n",
    "\n",
    "\n",
    "# <font color= #8A0829> Análisis problema práctico.</font>\n",
    "\n",
    "<Strong> Objetivos </Strong>\n",
    "- Analizar un problema práctico donde se apliquen las herramientas previamente estudiadas de modelos de series de tiempo.\n",
    "> Referencias: \n",
    "    > - https://www.statsmodels.org/v0.13.0/examples/notebooks/generated/statespace_sarimax_stata.html\n",
    "    > - https://towardsdatascience.com/time-series-forecast-in-python-using-sarimax-and-prophet-c970e6056b5b\n",
    "    > - https://towardsdatascience.com/autocorrelation-for-time-series-analysis-86e68e631f77\n",
    "___"
   ]
  },
  {
   "cell_type": "markdown",
   "id": "dbb621d8",
   "metadata": {},
   "source": [
    "# Ejemplo de aplicación 1:\n",
    "\n",
    "Los datos que se van a analizar para la construcción de un modelo se serie de tiempo tiene las siguientes características. Las entradas en la columna de fecha son números enteros que representan el número de días desde 1899-12-30. Los números enteros del período se refieren a intervalos de 30 minutos en un día de 24 horas, por lo que hay 48 para cada día. El dataset es el siguiente:"
   ]
  },
  {
   "cell_type": "code",
   "execution_count": 1,
   "id": "f4ca9e80",
   "metadata": {},
   "outputs": [
    {
     "data": {
      "text/html": [
       "<div>\n",
       "<style scoped>\n",
       "    .dataframe tbody tr th:only-of-type {\n",
       "        vertical-align: middle;\n",
       "    }\n",
       "\n",
       "    .dataframe tbody tr th {\n",
       "        vertical-align: top;\n",
       "    }\n",
       "\n",
       "    .dataframe thead th {\n",
       "        text-align: right;\n",
       "    }\n",
       "</style>\n",
       "<table border=\"1\" class=\"dataframe\">\n",
       "  <thead>\n",
       "    <tr style=\"text-align: right;\">\n",
       "      <th></th>\n",
       "      <th>Date</th>\n",
       "      <th>Period</th>\n",
       "      <th>OperationalLessIndustrial</th>\n",
       "      <th>Industrial</th>\n",
       "      <th>date</th>\n",
       "    </tr>\n",
       "  </thead>\n",
       "  <tbody>\n",
       "    <tr>\n",
       "      <th>0</th>\n",
       "      <td>37257</td>\n",
       "      <td>1</td>\n",
       "      <td>3535.867064</td>\n",
       "      <td>1086.132936</td>\n",
       "      <td>2002-01-01 00:00:00</td>\n",
       "    </tr>\n",
       "    <tr>\n",
       "      <th>1</th>\n",
       "      <td>37257</td>\n",
       "      <td>2</td>\n",
       "      <td>3383.499028</td>\n",
       "      <td>1088.500972</td>\n",
       "      <td>2002-01-01 00:30:00</td>\n",
       "    </tr>\n",
       "    <tr>\n",
       "      <th>2</th>\n",
       "      <td>37257</td>\n",
       "      <td>3</td>\n",
       "      <td>3655.527552</td>\n",
       "      <td>1084.472448</td>\n",
       "      <td>2002-01-01 01:00:00</td>\n",
       "    </tr>\n",
       "    <tr>\n",
       "      <th>3</th>\n",
       "      <td>37257</td>\n",
       "      <td>4</td>\n",
       "      <td>3510.446636</td>\n",
       "      <td>1085.553364</td>\n",
       "      <td>2002-01-01 01:30:00</td>\n",
       "    </tr>\n",
       "    <tr>\n",
       "      <th>4</th>\n",
       "      <td>37257</td>\n",
       "      <td>5</td>\n",
       "      <td>3294.697156</td>\n",
       "      <td>1081.302844</td>\n",
       "      <td>2002-01-01 02:00:00</td>\n",
       "    </tr>\n",
       "  </tbody>\n",
       "</table>\n",
       "</div>"
      ],
      "text/plain": [
       "    Date  Period  OperationalLessIndustrial   Industrial                date\n",
       "0  37257       1                3535.867064  1086.132936 2002-01-01 00:00:00\n",
       "1  37257       2                3383.499028  1088.500972 2002-01-01 00:30:00\n",
       "2  37257       3                3655.527552  1084.472448 2002-01-01 01:00:00\n",
       "3  37257       4                3510.446636  1085.553364 2002-01-01 01:30:00\n",
       "4  37257       5                3294.697156  1081.302844 2002-01-01 02:00:00"
      ]
     },
     "execution_count": 1,
     "metadata": {},
     "output_type": "execute_result"
    }
   ],
   "source": [
    "import pandas as pd\n",
    "\n",
    "url = 'https://raw.githubusercontent.com/tidyverts/tsibbledata/master/data-raw/vic_elec/VIC2015/demand.csv'\n",
    "\n",
    "df = pd.read_csv(url)\n",
    "\n",
    "# Extraer fecha y hora\n",
    "df['date'] = df.apply(lambda x:\n",
    "    pd.Timestamp('1899-12-30') + pd.Timedelta(x['Date'], unit='D') + \n",
    "                        pd.Timedelta((x['Period'] - 1) * 30, unit='m'),\n",
    "                        axis=1)\n",
    "\n",
    "df.head()"
   ]
  },
  {
   "cell_type": "markdown",
   "id": "9ebeda85",
   "metadata": {},
   "source": [
    "Seleccionemos sólo una porción de la serie de tiempo para nuestro análisis:"
   ]
  },
  {
   "cell_type": "code",
   "execution_count": 2,
   "id": "b32fb75f",
   "metadata": {
    "scrolled": false
   },
   "outputs": [
    {
     "data": {
      "text/html": [
       "<div>\n",
       "<style scoped>\n",
       "    .dataframe tbody tr th:only-of-type {\n",
       "        vertical-align: middle;\n",
       "    }\n",
       "\n",
       "    .dataframe tbody tr th {\n",
       "        vertical-align: top;\n",
       "    }\n",
       "\n",
       "    .dataframe thead th {\n",
       "        text-align: right;\n",
       "    }\n",
       "</style>\n",
       "<table border=\"1\" class=\"dataframe\">\n",
       "  <thead>\n",
       "    <tr style=\"text-align: right;\">\n",
       "      <th></th>\n",
       "      <th>y</th>\n",
       "    </tr>\n",
       "    <tr>\n",
       "      <th>date</th>\n",
       "      <th></th>\n",
       "    </tr>\n",
       "  </thead>\n",
       "  <tbody>\n",
       "    <tr>\n",
       "      <th>2012-01-01 00:00:00</th>\n",
       "      <td>7926.529376</td>\n",
       "    </tr>\n",
       "    <tr>\n",
       "      <th>2012-01-01 01:00:00</th>\n",
       "      <td>7901.826990</td>\n",
       "    </tr>\n",
       "    <tr>\n",
       "      <th>2012-01-01 02:00:00</th>\n",
       "      <td>7255.721350</td>\n",
       "    </tr>\n",
       "    <tr>\n",
       "      <th>2012-01-01 03:00:00</th>\n",
       "      <td>6792.503352</td>\n",
       "    </tr>\n",
       "    <tr>\n",
       "      <th>2012-01-01 04:00:00</th>\n",
       "      <td>6635.984460</td>\n",
       "    </tr>\n",
       "  </tbody>\n",
       "</table>\n",
       "</div>"
      ],
      "text/plain": [
       "                               y\n",
       "date                            \n",
       "2012-01-01 00:00:00  7926.529376\n",
       "2012-01-01 01:00:00  7901.826990\n",
       "2012-01-01 02:00:00  7255.721350\n",
       "2012-01-01 03:00:00  6792.503352\n",
       "2012-01-01 04:00:00  6635.984460"
      ]
     },
     "execution_count": 2,
     "metadata": {},
     "output_type": "execute_result"
    }
   ],
   "source": [
    "# Tomar sólo la columna date y OperationalLessIndustrial --> y\n",
    "timeseries = df[['date', 'OperationalLessIndustrial']]\n",
    "timeseries.columns = ['date', 'y']\n",
    "\n",
    "# Tomar sólo los primeros 149 días del 2012\n",
    "start = pd.to_datetime('2012-01-01')\n",
    "end = start + pd.Timedelta('149D')\n",
    "mask = (timeseries['date'] >= start) & (timeseries['date'] <= end)\n",
    "timeseries = timeseries[mask]\n",
    "\n",
    "# Hacer un re muestreo de los datos para que queden de forma horaria (sumarlos)\n",
    "timeseries = timeseries.set_index('date').resample('H').sum()\n",
    "\n",
    "timeseries.head()"
   ]
  },
  {
   "cell_type": "markdown",
   "id": "12f6efa6",
   "metadata": {},
   "source": [
    "Ahora importaré las funcionas que hemos desarrollado hasta el momento en clases previas:"
   ]
  },
  {
   "cell_type": "code",
   "execution_count": 3,
   "id": "7b9d14d4",
   "metadata": {},
   "outputs": [],
   "source": [
    "from statsmodels.graphics.tsaplots import plot_acf, plot_pacf\n",
    "from statsmodels.tsa.stattools import adfuller\n",
    "import matplotlib.pyplot as plt\n",
    "\n",
    "# Graficar ACF y PACF\n",
    "def plot_acf_pacf(data, kwargs=dict()):\n",
    "    f = plt.figure(figsize=(8,5))\n",
    "\n",
    "    ax1 = f.add_subplot(121)\n",
    "\n",
    "    plot_acf(data, zero=False, ax=ax1, **kwargs)\n",
    "\n",
    "    ax2 = f.add_subplot(122)\n",
    "    plot_pacf(data, zero=False, ax=ax2, method='ols', **kwargs)\n",
    "\n",
    "    plt.show()\n",
    "    \n",
    "# Análisis de estacionariedad\n",
    "def adf_test(timeseries):\n",
    "    print(\"Results of Dickey-Fuller Test:\")\n",
    "    dftest = adfuller(timeseries, autolag=\"AIC\")\n",
    "    dfoutput = pd.Series(\n",
    "        dftest[0:4],\n",
    "        index=[\n",
    "            \"Test Statistic\",\n",
    "            \"p-value\",\n",
    "            \"#Lags Used\",\n",
    "            \"Number of Observations Used\",\n",
    "        ],\n",
    "    )\n",
    "    for key, value in dftest[4].items():\n",
    "        dfoutput[\"Critical Value (%s)\" % key] = value\n",
    "    print(dfoutput)\n",
    "    \n",
    "    if (dftest[1] <= 0.05) & (dftest[4]['5%'] > dftest[0]):\n",
    "        print(\"\\u001b[32mStationary\\u001b[0m\")\n",
    "    else:\n",
    "        print(\"\\x1b[31mNon-stationary\\x1b[0m\")\n"
   ]
  },
  {
   "cell_type": "code",
   "execution_count": 4,
   "id": "ed859750",
   "metadata": {},
   "outputs": [],
   "source": [
    "from statsmodels.tsa.statespace.sarimax import SARIMAX\n",
    "import statsmodels.api as sm\n",
    "import statsmodels as st\n",
    "import numpy as np\n",
    "\n",
    "# Ignorar warnings\n",
    "import warnings\n",
    "warnings.filterwarnings(\"ignore\")"
   ]
  },
  {
   "cell_type": "code",
   "execution_count": 5,
   "id": "3a960776",
   "metadata": {
    "scrolled": true
   },
   "outputs": [
    {
     "name": "stdout",
     "output_type": "stream",
     "text": [
      "0.14.0.dev727+g3fb2b0fe4\n"
     ]
    }
   ],
   "source": [
    "import statsmodels\n",
    "print(statsmodels.__version__)"
   ]
  },
  {
   "cell_type": "code",
   "execution_count": 6,
   "id": "f288794d",
   "metadata": {
    "scrolled": true
   },
   "outputs": [],
   "source": [
    "#%pip install git+https://github.com/statsmodels/statsmodels"
   ]
  },
  {
   "cell_type": "code",
   "execution_count": 7,
   "id": "63ace639",
   "metadata": {},
   "outputs": [
    {
     "name": "stdout",
     "output_type": "stream",
     "text": [
      "0.14.0.dev727+g3fb2b0fe4\n"
     ]
    }
   ],
   "source": [
    "import statsmodels\n",
    "print(statsmodels.__version__)"
   ]
  },
  {
   "cell_type": "markdown",
   "id": "4a2b671c",
   "metadata": {},
   "source": [
    "## 1. Análisis gráfico"
   ]
  },
  {
   "cell_type": "code",
   "execution_count": 8,
   "id": "5a50aeaf",
   "metadata": {},
   "outputs": [
    {
     "data": {
      "text/plain": [
       "<AxesSubplot:xlabel='date'>"
      ]
     },
     "execution_count": 8,
     "metadata": {},
     "output_type": "execute_result"
    },
    {
     "data": {
      "image/png": "[encoded data removed]",
      "text/plain": [
       "<Figure size 432x288 with 1 Axes>"
      ]
     },
     "metadata": {
      "needs_background": "light"
     },
     "output_type": "display_data"
    }
   ],
   "source": [
    "# Graficar la serie de tiempo\n",
    "timeseries[:400].plot()"
   ]
  },
  {
   "cell_type": "markdown",
   "id": "a758c1df",
   "metadata": {},
   "source": [
    "Obtener conclusiones..."
   ]
  },
  {
   "cell_type": "markdown",
   "id": "a7e83503",
   "metadata": {},
   "source": [
    "## 2. Análisis de estacionalidad\n",
    "\n",
    "## a). Analizar autocorrelación"
   ]
  },
  {
   "cell_type": "code",
   "execution_count": 9,
   "id": "eb291ec4",
   "metadata": {},
   "outputs": [
    {
     "data": {
      "image/png": "[encoded data removed]",
      "text/plain": [
       "<Figure size 576x360 with 2 Axes>"
      ]
     },
     "metadata": {
      "needs_background": "light"
     },
     "output_type": "display_data"
    }
   ],
   "source": [
    "seasonality_data = timeseries[:400]\n",
    "\n",
    "# Graficar ACF y PAC -> CONCLUIR\n",
    "plot_acf_pacf(seasonality_data, {'lags': 40})"
   ]
  },
  {
   "cell_type": "code",
   "execution_count": 10,
   "id": "0496eb91",
   "metadata": {},
   "outputs": [
    {
     "data": {
      "image/png": "[encoded data removed]",
      "text/plain": [
       "<Figure size 576x360 with 2 Axes>"
      ]
     },
     "metadata": {
      "needs_background": "light"
     },
     "output_type": "display_data"
    }
   ],
   "source": [
    "seasonality_data = timeseries[:400]\n",
    "\n",
    "# Graficar ACF y PAC -> CONCLUIR\n",
    "plot_acf_pacf(seasonality_data, {'lags': 40})"
   ]
  },
  {
   "cell_type": "code",
   "execution_count": 11,
   "id": "19d27a66",
   "metadata": {},
   "outputs": [
    {
     "data": {
      "image/png": "[encoded data removed]",
      "text/plain": [
       "<Figure size 576x360 with 2 Axes>"
      ]
     },
     "metadata": {
      "needs_background": "light"
     },
     "output_type": "display_data"
    }
   ],
   "source": [
    "seasonality_data = timeseries[:400]\n",
    "\n",
    "# Graficar ACF y PAC -> CONCLUIR\n",
    "plot_acf_pacf(seasonality_data.diff().dropna(), {'lags': 40})"
   ]
  },
  {
   "cell_type": "markdown",
   "id": "2a2af182",
   "metadata": {},
   "source": [
    "### b). Descomponer la serie de tiempo en las componentes estaciones detectadas."
   ]
  },
  {
   "cell_type": "code",
   "execution_count": 12,
   "id": "eeb3a4cb",
   "metadata": {},
   "outputs": [
    {
     "data": {
      "image/png": "[encoded data removed]",
      "text/plain": [
       "<Figure size 576x576 with 5 Axes>"
      ]
     },
     "metadata": {
      "needs_background": "light"
     },
     "output_type": "display_data"
    }
   ],
   "source": [
    "# Función para análisis de estacionalidad\n",
    "from statsmodels.tsa.seasonal import MSTL\n",
    "import matplotlib.pyplot as plt\n",
    "\n",
    "data1 = timeseries.copy()\n",
    "periods_seasonality = (12, 24)\n",
    "\n",
    "stl_kwargs = {\"seasonal_deg\": 0} \n",
    "model = MSTL(data1, periods=periods_seasonality, stl_kwargs=stl_kwargs)\n",
    "res2 = model.fit()\n",
    "\n",
    "# Gráfica de descomposición\n",
    "fig, ax = plt.subplots(5, 1, sharex=True, figsize=(8, 8))\n",
    "\n",
    "res2.observed.plot(ax=ax[0])\n",
    "ax[0].set_ylabel('Observed')\n",
    "\n",
    "res2.trend.plot(ax=ax[1])\n",
    "ax[1].set_ylabel('Trend')\n",
    "\n",
    "res2.seasonal[f'seasonal_{periods_seasonality[0]}'].plot(ax=ax[2])\n",
    "ax[2].set_ylabel(f'seasonal_{periods_seasonality[0]}')\n",
    "\n",
    "res2.seasonal[f'seasonal_{periods_seasonality[1]}'].plot(ax=ax[3])\n",
    "ax[3].set_ylabel(f'seasonal_{periods_seasonality[1]}')\n",
    "\n",
    "res2.resid.plot(ax=ax[4])\n",
    "ax[4].set_ylabel('Residual')\n",
    "\n",
    "fig.tight_layout()"
   ]
  },
  {
   "cell_type": "code",
   "execution_count": 13,
   "id": "c74de499",
   "metadata": {},
   "outputs": [
    {
     "data": {
      "text/plain": [
       "<AxesSubplot:xlabel='date'>"
      ]
     },
     "execution_count": 13,
     "metadata": {},
     "output_type": "execute_result"
    },
    {
     "data": {
      "image/png": "[encoded data removed]",
      "text/plain": [
       "<Figure size 432x288 with 1 Axes>"
      ]
     },
     "metadata": {
      "needs_background": "light"
     },
     "output_type": "display_data"
    }
   ],
   "source": [
    "# Graficar datos observados con datos de estacionalidad\n",
    "ax = res2.observed.to_frame('observados')[:400].plot()\n",
    "\n",
    "res2.seasonal[:400].plot(ax = ax)"
   ]
  },
  {
   "cell_type": "markdown",
   "id": "3ca2885e",
   "metadata": {},
   "source": [
    "### c). Estacionariedad de la estacionalidad encontrada"
   ]
  },
  {
   "cell_type": "code",
   "execution_count": 14,
   "id": "696e2b15",
   "metadata": {},
   "outputs": [
    {
     "name": "stdout",
     "output_type": "stream",
     "text": [
      "Results of Dickey-Fuller Test:\n",
      "Test Statistic                  -33.521796\n",
      "p-value                           0.000000\n",
      "#Lags Used                       30.000000\n",
      "Number of Observations Used    3546.000000\n",
      "Critical Value (1%)              -3.432195\n",
      "Critical Value (5%)              -2.862355\n",
      "Critical Value (10%)             -2.567204\n",
      "dtype: float64\n",
      "\u001b[32mStationary\u001b[0m\n"
     ]
    }
   ],
   "source": [
    "# En base a la estacionalidad seleccionada, calcular la estacionariedad de dicha serie temporal\n",
    "seasonality_24 = res2.seasonal['seasonal_24']\n",
    "\n",
    "adf_test(seasonality_24)"
   ]
  },
  {
   "cell_type": "code",
   "execution_count": 15,
   "id": "00319f24",
   "metadata": {},
   "outputs": [
    {
     "name": "stdout",
     "output_type": "stream",
     "text": [
      "Results of Dickey-Fuller Test:\n",
      "Test Statistic                -1.370663e+01\n",
      "p-value                        1.260217e-25\n",
      "#Lags Used                     3.000000e+01\n",
      "Number of Observations Used    3.546000e+03\n",
      "Critical Value (1%)           -3.432195e+00\n",
      "Critical Value (5%)           -2.862355e+00\n",
      "Critical Value (10%)          -2.567204e+00\n",
      "dtype: float64\n",
      "\u001b[32mStationary\u001b[0m\n"
     ]
    }
   ],
   "source": [
    "# En base a la estacionalidad seleccionada, calcular la estacionariedad de dicha serie temporal\n",
    "seasonality_12 = res2.seasonal['seasonal_12']\n",
    "\n",
    "adf_test(seasonality_12)"
   ]
  },
  {
   "cell_type": "markdown",
   "id": "a4a3edbe",
   "metadata": {},
   "source": [
    "### d). Determinar parámetros $(P,D,Q,S)$ \n",
    "$(P, D, Q, S)$ (Seasonal AR specification, Seasonal Integration order, Seasonal MA, Seasonal periodicity)"
   ]
  },
  {
   "cell_type": "code",
   "execution_count": 20,
   "id": "11b9d097",
   "metadata": {},
   "outputs": [
    {
     "data": {
      "image/png": "[encoded data removed]",
      "text/plain": [
       "<Figure size 576x360 with 2 Axes>"
      ]
     },
     "metadata": {
      "needs_background": "light"
     },
     "output_type": "display_data"
    }
   ],
   "source": [
    "# Graficar ACF y PACF - > Analizar el caso cuando se diferencia la serie estacional seleccionada\n",
    "plot_acf_pacf(seasonality_12.diff().dropna(), {'lags': 40})"
   ]
  },
  {
   "cell_type": "code",
   "execution_count": 18,
   "id": "a69dea6c",
   "metadata": {},
   "outputs": [
    {
     "data": {
      "image/png": "[encoded data removed]",
      "text/plain": [
       "<Figure size 576x360 with 2 Axes>"
      ]
     },
     "metadata": {
      "needs_background": "light"
     },
     "output_type": "display_data"
    }
   ],
   "source": [
    "# Graficar ACF y PACF - > Analizar el caso cuando se diferencia la serie estacional seleccionada\n",
    "plot_acf_pacf(seasonality_24, {'lags': 40})"
   ]
  },
  {
   "cell_type": "markdown",
   "id": "d921e1fb",
   "metadata": {},
   "source": [
    "Concluir..."
   ]
  },
  {
   "cell_type": "markdown",
   "id": "75186e40",
   "metadata": {},
   "source": [
    "## 3. Componente no estacional $(p, d, q)$"
   ]
  },
  {
   "cell_type": "code",
   "execution_count": 21,
   "id": "f7ec40cb",
   "metadata": {},
   "outputs": [
    {
     "name": "stdout",
     "output_type": "stream",
     "text": [
      "Results of Dickey-Fuller Test:\n",
      "Test Statistic                -6.037180e+00\n",
      "p-value                        1.373164e-07\n",
      "#Lags Used                     3.000000e+01\n",
      "Number of Observations Used    3.546000e+03\n",
      "Critical Value (1%)           -3.432195e+00\n",
      "Critical Value (5%)           -2.862355e+00\n",
      "Critical Value (10%)          -2.567204e+00\n",
      "dtype: float64\n",
      "\u001b[32mStationary\u001b[0m\n"
     ]
    }
   ],
   "source": [
    "adf_test(res2.observed)"
   ]
  },
  {
   "cell_type": "code",
   "execution_count": 25,
   "id": "1f826730",
   "metadata": {},
   "outputs": [
    {
     "data": {
      "text/plain": [
       "<AxesSubplot:xlabel='date'>"
      ]
     },
     "execution_count": 25,
     "metadata": {},
     "output_type": "execute_result"
    },
    {
     "data": {
      "image/png": "[encoded data removed]",
      "text/plain": [
       "<Figure size 432x288 with 1 Axes>"
      ]
     },
     "metadata": {
      "needs_background": "light"
     },
     "output_type": "display_data"
    }
   ],
   "source": [
    "# Calcular la componente no estacional de la serie temporal\n",
    "non_seasonal = res2.observed - res2.seasonal['seasonal_12']\n",
    "\n",
    "non_seasonal.plot()"
   ]
  },
  {
   "cell_type": "code",
   "execution_count": 26,
   "id": "995ca886",
   "metadata": {},
   "outputs": [
    {
     "name": "stdout",
     "output_type": "stream",
     "text": [
      "Results of Dickey-Fuller Test:\n",
      "Test Statistic                -6.653967e+00\n",
      "p-value                        5.038531e-09\n",
      "#Lags Used                     2.800000e+01\n",
      "Number of Observations Used    3.548000e+03\n",
      "Critical Value (1%)           -3.432194e+00\n",
      "Critical Value (5%)           -2.862355e+00\n",
      "Critical Value (10%)          -2.567204e+00\n",
      "dtype: float64\n",
      "\u001b[32mStationary\u001b[0m\n"
     ]
    }
   ],
   "source": [
    "# Calcular si la serie no estacional es estacionaria o no\n",
    "adf_test(non_seasonal)"
   ]
  },
  {
   "cell_type": "markdown",
   "id": "53f90494",
   "metadata": {},
   "source": [
    "## a). Analizar autocorrelación"
   ]
  },
  {
   "cell_type": "code",
   "execution_count": 30,
   "id": "645b5bb2",
   "metadata": {},
   "outputs": [
    {
     "data": {
      "image/png": "[encoded data removed]",
      "text/plain": [
       "<Figure size 576x360 with 2 Axes>"
      ]
     },
     "metadata": {
      "needs_background": "light"
     },
     "output_type": "display_data"
    }
   ],
   "source": [
    "# Graficar ACF y PACF para obtener valores de p y q (analizar el efecto de diferenciar diff())\n",
    "plot_acf_pacf(non_seasonal.diff().diff().dropna(), {'lags': 40})"
   ]
  },
  {
   "cell_type": "markdown",
   "id": "41d01367",
   "metadata": {},
   "source": [
    "Concluir..."
   ]
  },
  {
   "cell_type": "markdown",
   "id": "1330c451",
   "metadata": {},
   "source": [
    "# Un poco de teoría de los modelos SARIMAX\n",
    "\n",
    "Analicemos matemáticamente un modelo SARIMAX. Generalmente este modelo se escribe como un modelo ARIMA$(p,d,q) \\times (P,D,Q)_s$, donde las letras minúsculas indican la especificación para el componente **no estacional** y las letras **mayúsculas** indican la especificación para el **componente estacional**; es la periodicidad de las estaciones (por ejemplo, suele ser 4 para datos trimestrales o 12 para datos mensuales). El proceso se puede escribir genéricamente como:\n",
    "$$\n",
    "\\phi_p (L) \\tilde \\phi_P (L^s) \\Delta^d \\Delta_s^D y_t = A(t) + \\theta_q (L) \\tilde \\theta_Q (L^s) \\epsilon_t\n",
    "$$\n",
    "dónde:\n",
    "- $\\phi_p (L)$ es el polinomio de rezago autorregresivo no estacional\n",
    "- $\\tilde \\phi_P (L^s)$ es el polinomio de retraso autorregresivo estacional\n",
    "- $\\Delta^d \\Delta_s^D y_t$ es la serie temporal, los tiempos diferenciados y los diferenciados estacionalmente\n",
    "- $A(t)$ es el polinomio de tendencia (incluida la intersección)\n",
    "- $\\theta_q (L)$ es el polinomio de rezago promedio móvil no estacional\n",
    "- $\\tilde \\theta_Q (L^s)$ es el polinomio de retraso de la media móvil estacional\n",
    "\n",
    "Consideremos como ejemplo el siguiente modelo ARIMA$(2,1,0)\\times (1,1,0)_{12}$ con un intercepto. El proceso de datos se puede escribir en el formulario anterior como:\n",
    "$$\n",
    "(1 - \\phi_1 L - \\phi_2 L^2) (1 - \\tilde \\phi_1 L^{12}) \\Delta \\Delta_{12} y_t = c + \\epsilon_t\n",
    "$$\n",
    "\n",
    "Considerando $y_t^* = \\Delta \\Delta_{12} y_t$ el modelo se puede reescribir de la siguiente forma:\n",
    "$$\n",
    "y_t^* = c + \\phi_1 y_{t-1}^* + \\phi_2 y_{t-2}^* + \\tilde \\phi_1 y_{t-12}^* - \\phi_1 \\tilde \\phi_1 y_{t-13}^* - \\phi_2 \\tilde \\phi_1 y_{t-14}^* + \\epsilon_t.\n",
    "$$"
   ]
  },
  {
   "cell_type": "markdown",
   "id": "5ecadbf7",
   "metadata": {},
   "source": [
    "Si pensamos que nuestro modelo puede tener más de una valor $(p,d,q,P,D,Q)$ entonces una buena idea podría hacer una búsqueda exhaustiva en un espacio definido. Por ejemplo,"
   ]
  },
  {
   "cell_type": "code",
   "execution_count": 34,
   "id": "b1b0c417",
   "metadata": {},
   "outputs": [
    {
     "data": {
      "text/plain": [
       "[((0, 0, 0), (0, 0, 0, 12), 'n'),\n",
       " ((0, 0, 0), (0, 0, 0, 12), 'c'),\n",
       " ((0, 0, 0), (0, 0, 0, 12), 't'),\n",
       " ((0, 0, 0), (0, 0, 0, 12), 'ct'),\n",
       " ((0, 0, 0), (0, 0, 1, 12), 'n'),\n",
       " ((0, 0, 0), (0, 0, 1, 12), 'c'),\n",
       " ((0, 0, 0), (0, 0, 1, 12), 't'),\n",
       " ((0, 0, 0), (0, 0, 1, 12), 'ct'),\n",
       " ((0, 0, 0), (0, 0, 2, 12), 'n'),\n",
       " ((0, 0, 0), (0, 0, 2, 12), 'c'),\n",
       " ((0, 0, 0), (0, 0, 2, 12), 't'),\n",
       " ((0, 0, 0), (0, 0, 2, 12), 'ct'),\n",
       " ((0, 0, 0), (1, 0, 0, 12), 'n'),\n",
       " ((0, 0, 0), (1, 0, 0, 12), 'c'),\n",
       " ((0, 0, 0), (1, 0, 0, 12), 't'),\n",
       " ((0, 0, 0), (1, 0, 0, 12), 'ct'),\n",
       " ((0, 0, 0), (1, 0, 1, 12), 'n'),\n",
       " ((0, 0, 0), (1, 0, 1, 12), 'c'),\n",
       " ((0, 0, 0), (1, 0, 1, 12), 't'),\n",
       " ((0, 0, 0), (1, 0, 1, 12), 'ct'),\n",
       " ((0, 0, 0), (1, 0, 2, 12), 'n'),\n",
       " ((0, 0, 0), (1, 0, 2, 12), 'c'),\n",
       " ((0, 0, 0), (1, 0, 2, 12), 't'),\n",
       " ((0, 0, 0), (1, 0, 2, 12), 'ct'),\n",
       " ((0, 0, 0), (2, 0, 0, 12), 'n'),\n",
       " ((0, 0, 0), (2, 0, 0, 12), 'c'),\n",
       " ((0, 0, 0), (2, 0, 0, 12), 't'),\n",
       " ((0, 0, 0), (2, 0, 0, 12), 'ct'),\n",
       " ((0, 0, 0), (2, 0, 1, 12), 'n'),\n",
       " ((0, 0, 0), (2, 0, 1, 12), 'c'),\n",
       " ((0, 0, 0), (2, 0, 1, 12), 't'),\n",
       " ((0, 0, 0), (2, 0, 1, 12), 'ct'),\n",
       " ((0, 0, 0), (2, 0, 2, 12), 'n'),\n",
       " ((0, 0, 0), (2, 0, 2, 12), 'c'),\n",
       " ((0, 0, 0), (2, 0, 2, 12), 't'),\n",
       " ((0, 0, 0), (2, 0, 2, 12), 'ct'),\n",
       " ((0, 0, 1), (0, 0, 0, 12), 'n'),\n",
       " ((0, 0, 1), (0, 0, 0, 12), 'c'),\n",
       " ((0, 0, 1), (0, 0, 0, 12), 't'),\n",
       " ((0, 0, 1), (0, 0, 0, 12), 'ct'),\n",
       " ((0, 0, 1), (0, 0, 1, 12), 'n'),\n",
       " ((0, 0, 1), (0, 0, 1, 12), 'c'),\n",
       " ((0, 0, 1), (0, 0, 1, 12), 't'),\n",
       " ((0, 0, 1), (0, 0, 1, 12), 'ct'),\n",
       " ((0, 0, 1), (0, 0, 2, 12), 'n'),\n",
       " ((0, 0, 1), (0, 0, 2, 12), 'c'),\n",
       " ((0, 0, 1), (0, 0, 2, 12), 't'),\n",
       " ((0, 0, 1), (0, 0, 2, 12), 'ct'),\n",
       " ((0, 0, 1), (1, 0, 0, 12), 'n'),\n",
       " ((0, 0, 1), (1, 0, 0, 12), 'c'),\n",
       " ((0, 0, 1), (1, 0, 0, 12), 't'),\n",
       " ((0, 0, 1), (1, 0, 0, 12), 'ct'),\n",
       " ((0, 0, 1), (1, 0, 1, 12), 'n'),\n",
       " ((0, 0, 1), (1, 0, 1, 12), 'c'),\n",
       " ((0, 0, 1), (1, 0, 1, 12), 't'),\n",
       " ((0, 0, 1), (1, 0, 1, 12), 'ct'),\n",
       " ((0, 0, 1), (1, 0, 2, 12), 'n'),\n",
       " ((0, 0, 1), (1, 0, 2, 12), 'c'),\n",
       " ((0, 0, 1), (1, 0, 2, 12), 't'),\n",
       " ((0, 0, 1), (1, 0, 2, 12), 'ct'),\n",
       " ((0, 0, 1), (2, 0, 0, 12), 'n'),\n",
       " ((0, 0, 1), (2, 0, 0, 12), 'c'),\n",
       " ((0, 0, 1), (2, 0, 0, 12), 't'),\n",
       " ((0, 0, 1), (2, 0, 0, 12), 'ct'),\n",
       " ((0, 0, 1), (2, 0, 1, 12), 'n'),\n",
       " ((0, 0, 1), (2, 0, 1, 12), 'c'),\n",
       " ((0, 0, 1), (2, 0, 1, 12), 't'),\n",
       " ((0, 0, 1), (2, 0, 1, 12), 'ct'),\n",
       " ((0, 0, 1), (2, 0, 2, 12), 'n'),\n",
       " ((0, 0, 1), (2, 0, 2, 12), 'c'),\n",
       " ((0, 0, 1), (2, 0, 2, 12), 't'),\n",
       " ((0, 0, 1), (2, 0, 2, 12), 'ct'),\n",
       " ((0, 0, 2), (0, 0, 0, 12), 'n'),\n",
       " ((0, 0, 2), (0, 0, 0, 12), 'c'),\n",
       " ((0, 0, 2), (0, 0, 0, 12), 't'),\n",
       " ((0, 0, 2), (0, 0, 0, 12), 'ct'),\n",
       " ((0, 0, 2), (0, 0, 1, 12), 'n'),\n",
       " ((0, 0, 2), (0, 0, 1, 12), 'c'),\n",
       " ((0, 0, 2), (0, 0, 1, 12), 't'),\n",
       " ((0, 0, 2), (0, 0, 1, 12), 'ct'),\n",
       " ((0, 0, 2), (0, 0, 2, 12), 'n'),\n",
       " ((0, 0, 2), (0, 0, 2, 12), 'c'),\n",
       " ((0, 0, 2), (0, 0, 2, 12), 't'),\n",
       " ((0, 0, 2), (0, 0, 2, 12), 'ct'),\n",
       " ((0, 0, 2), (1, 0, 0, 12), 'n'),\n",
       " ((0, 0, 2), (1, 0, 0, 12), 'c'),\n",
       " ((0, 0, 2), (1, 0, 0, 12), 't'),\n",
       " ((0, 0, 2), (1, 0, 0, 12), 'ct'),\n",
       " ((0, 0, 2), (1, 0, 1, 12), 'n'),\n",
       " ((0, 0, 2), (1, 0, 1, 12), 'c'),\n",
       " ((0, 0, 2), (1, 0, 1, 12), 't'),\n",
       " ((0, 0, 2), (1, 0, 1, 12), 'ct'),\n",
       " ((0, 0, 2), (1, 0, 2, 12), 'n'),\n",
       " ((0, 0, 2), (1, 0, 2, 12), 'c'),\n",
       " ((0, 0, 2), (1, 0, 2, 12), 't'),\n",
       " ((0, 0, 2), (1, 0, 2, 12), 'ct'),\n",
       " ((0, 0, 2), (2, 0, 0, 12), 'n'),\n",
       " ((0, 0, 2), (2, 0, 0, 12), 'c'),\n",
       " ((0, 0, 2), (2, 0, 0, 12), 't'),\n",
       " ((0, 0, 2), (2, 0, 0, 12), 'ct'),\n",
       " ((0, 0, 2), (2, 0, 1, 12), 'n'),\n",
       " ((0, 0, 2), (2, 0, 1, 12), 'c'),\n",
       " ((0, 0, 2), (2, 0, 1, 12), 't'),\n",
       " ((0, 0, 2), (2, 0, 1, 12), 'ct'),\n",
       " ((0, 0, 2), (2, 0, 2, 12), 'n'),\n",
       " ((0, 0, 2), (2, 0, 2, 12), 'c'),\n",
       " ((0, 0, 2), (2, 0, 2, 12), 't'),\n",
       " ((0, 0, 2), (2, 0, 2, 12), 'ct'),\n",
       " ((0, 0, 3), (0, 0, 0, 12), 'n'),\n",
       " ((0, 0, 3), (0, 0, 0, 12), 'c'),\n",
       " ((0, 0, 3), (0, 0, 0, 12), 't'),\n",
       " ((0, 0, 3), (0, 0, 0, 12), 'ct'),\n",
       " ((0, 0, 3), (0, 0, 1, 12), 'n'),\n",
       " ((0, 0, 3), (0, 0, 1, 12), 'c'),\n",
       " ((0, 0, 3), (0, 0, 1, 12), 't'),\n",
       " ((0, 0, 3), (0, 0, 1, 12), 'ct'),\n",
       " ((0, 0, 3), (0, 0, 2, 12), 'n'),\n",
       " ((0, 0, 3), (0, 0, 2, 12), 'c'),\n",
       " ((0, 0, 3), (0, 0, 2, 12), 't'),\n",
       " ((0, 0, 3), (0, 0, 2, 12), 'ct'),\n",
       " ((0, 0, 3), (1, 0, 0, 12), 'n'),\n",
       " ((0, 0, 3), (1, 0, 0, 12), 'c'),\n",
       " ((0, 0, 3), (1, 0, 0, 12), 't'),\n",
       " ((0, 0, 3), (1, 0, 0, 12), 'ct'),\n",
       " ((0, 0, 3), (1, 0, 1, 12), 'n'),\n",
       " ((0, 0, 3), (1, 0, 1, 12), 'c'),\n",
       " ((0, 0, 3), (1, 0, 1, 12), 't'),\n",
       " ((0, 0, 3), (1, 0, 1, 12), 'ct'),\n",
       " ((0, 0, 3), (1, 0, 2, 12), 'n'),\n",
       " ((0, 0, 3), (1, 0, 2, 12), 'c'),\n",
       " ((0, 0, 3), (1, 0, 2, 12), 't'),\n",
       " ((0, 0, 3), (1, 0, 2, 12), 'ct'),\n",
       " ((0, 0, 3), (2, 0, 0, 12), 'n'),\n",
       " ((0, 0, 3), (2, 0, 0, 12), 'c'),\n",
       " ((0, 0, 3), (2, 0, 0, 12), 't'),\n",
       " ((0, 0, 3), (2, 0, 0, 12), 'ct'),\n",
       " ((0, 0, 3), (2, 0, 1, 12), 'n'),\n",
       " ((0, 0, 3), (2, 0, 1, 12), 'c'),\n",
       " ((0, 0, 3), (2, 0, 1, 12), 't'),\n",
       " ((0, 0, 3), (2, 0, 1, 12), 'ct'),\n",
       " ((0, 0, 3), (2, 0, 2, 12), 'n'),\n",
       " ((0, 0, 3), (2, 0, 2, 12), 'c'),\n",
       " ((0, 0, 3), (2, 0, 2, 12), 't'),\n",
       " ((0, 0, 3), (2, 0, 2, 12), 'ct'),\n",
       " ((1, 0, 0), (0, 0, 0, 12), 'n'),\n",
       " ((1, 0, 0), (0, 0, 0, 12), 'c'),\n",
       " ((1, 0, 0), (0, 0, 0, 12), 't'),\n",
       " ((1, 0, 0), (0, 0, 0, 12), 'ct'),\n",
       " ((1, 0, 0), (0, 0, 1, 12), 'n'),\n",
       " ((1, 0, 0), (0, 0, 1, 12), 'c'),\n",
       " ((1, 0, 0), (0, 0, 1, 12), 't'),\n",
       " ((1, 0, 0), (0, 0, 1, 12), 'ct'),\n",
       " ((1, 0, 0), (0, 0, 2, 12), 'n'),\n",
       " ((1, 0, 0), (0, 0, 2, 12), 'c'),\n",
       " ((1, 0, 0), (0, 0, 2, 12), 't'),\n",
       " ((1, 0, 0), (0, 0, 2, 12), 'ct'),\n",
       " ((1, 0, 0), (1, 0, 0, 12), 'n'),\n",
       " ((1, 0, 0), (1, 0, 0, 12), 'c'),\n",
       " ((1, 0, 0), (1, 0, 0, 12), 't'),\n",
       " ((1, 0, 0), (1, 0, 0, 12), 'ct'),\n",
       " ((1, 0, 0), (1, 0, 1, 12), 'n'),\n",
       " ((1, 0, 0), (1, 0, 1, 12), 'c'),\n",
       " ((1, 0, 0), (1, 0, 1, 12), 't'),\n",
       " ((1, 0, 0), (1, 0, 1, 12), 'ct'),\n",
       " ((1, 0, 0), (1, 0, 2, 12), 'n'),\n",
       " ((1, 0, 0), (1, 0, 2, 12), 'c'),\n",
       " ((1, 0, 0), (1, 0, 2, 12), 't'),\n",
       " ((1, 0, 0), (1, 0, 2, 12), 'ct'),\n",
       " ((1, 0, 0), (2, 0, 0, 12), 'n'),\n",
       " ((1, 0, 0), (2, 0, 0, 12), 'c'),\n",
       " ((1, 0, 0), (2, 0, 0, 12), 't'),\n",
       " ((1, 0, 0), (2, 0, 0, 12), 'ct'),\n",
       " ((1, 0, 0), (2, 0, 1, 12), 'n'),\n",
       " ((1, 0, 0), (2, 0, 1, 12), 'c'),\n",
       " ((1, 0, 0), (2, 0, 1, 12), 't'),\n",
       " ((1, 0, 0), (2, 0, 1, 12), 'ct'),\n",
       " ((1, 0, 0), (2, 0, 2, 12), 'n'),\n",
       " ((1, 0, 0), (2, 0, 2, 12), 'c'),\n",
       " ((1, 0, 0), (2, 0, 2, 12), 't'),\n",
       " ((1, 0, 0), (2, 0, 2, 12), 'ct'),\n",
       " ((1, 0, 1), (0, 0, 0, 12), 'n'),\n",
       " ((1, 0, 1), (0, 0, 0, 12), 'c'),\n",
       " ((1, 0, 1), (0, 0, 0, 12), 't'),\n",
       " ((1, 0, 1), (0, 0, 0, 12), 'ct'),\n",
       " ((1, 0, 1), (0, 0, 1, 12), 'n'),\n",
       " ((1, 0, 1), (0, 0, 1, 12), 'c'),\n",
       " ((1, 0, 1), (0, 0, 1, 12), 't'),\n",
       " ((1, 0, 1), (0, 0, 1, 12), 'ct'),\n",
       " ((1, 0, 1), (0, 0, 2, 12), 'n'),\n",
       " ((1, 0, 1), (0, 0, 2, 12), 'c'),\n",
       " ((1, 0, 1), (0, 0, 2, 12), 't'),\n",
       " ((1, 0, 1), (0, 0, 2, 12), 'ct'),\n",
       " ((1, 0, 1), (1, 0, 0, 12), 'n'),\n",
       " ((1, 0, 1), (1, 0, 0, 12), 'c'),\n",
       " ((1, 0, 1), (1, 0, 0, 12), 't'),\n",
       " ((1, 0, 1), (1, 0, 0, 12), 'ct'),\n",
       " ((1, 0, 1), (1, 0, 1, 12), 'n'),\n",
       " ((1, 0, 1), (1, 0, 1, 12), 'c'),\n",
       " ((1, 0, 1), (1, 0, 1, 12), 't'),\n",
       " ((1, 0, 1), (1, 0, 1, 12), 'ct'),\n",
       " ((1, 0, 1), (1, 0, 2, 12), 'n'),\n",
       " ((1, 0, 1), (1, 0, 2, 12), 'c'),\n",
       " ((1, 0, 1), (1, 0, 2, 12), 't'),\n",
       " ((1, 0, 1), (1, 0, 2, 12), 'ct'),\n",
       " ((1, 0, 1), (2, 0, 0, 12), 'n'),\n",
       " ((1, 0, 1), (2, 0, 0, 12), 'c'),\n",
       " ((1, 0, 1), (2, 0, 0, 12), 't'),\n",
       " ((1, 0, 1), (2, 0, 0, 12), 'ct'),\n",
       " ((1, 0, 1), (2, 0, 1, 12), 'n'),\n",
       " ((1, 0, 1), (2, 0, 1, 12), 'c'),\n",
       " ((1, 0, 1), (2, 0, 1, 12), 't'),\n",
       " ((1, 0, 1), (2, 0, 1, 12), 'ct'),\n",
       " ((1, 0, 1), (2, 0, 2, 12), 'n'),\n",
       " ((1, 0, 1), (2, 0, 2, 12), 'c'),\n",
       " ((1, 0, 1), (2, 0, 2, 12), 't'),\n",
       " ((1, 0, 1), (2, 0, 2, 12), 'ct'),\n",
       " ((1, 0, 2), (0, 0, 0, 12), 'n'),\n",
       " ((1, 0, 2), (0, 0, 0, 12), 'c'),\n",
       " ((1, 0, 2), (0, 0, 0, 12), 't'),\n",
       " ((1, 0, 2), (0, 0, 0, 12), 'ct'),\n",
       " ((1, 0, 2), (0, 0, 1, 12), 'n'),\n",
       " ((1, 0, 2), (0, 0, 1, 12), 'c'),\n",
       " ((1, 0, 2), (0, 0, 1, 12), 't'),\n",
       " ((1, 0, 2), (0, 0, 1, 12), 'ct'),\n",
       " ((1, 0, 2), (0, 0, 2, 12), 'n'),\n",
       " ((1, 0, 2), (0, 0, 2, 12), 'c'),\n",
       " ((1, 0, 2), (0, 0, 2, 12), 't'),\n",
       " ((1, 0, 2), (0, 0, 2, 12), 'ct'),\n",
       " ((1, 0, 2), (1, 0, 0, 12), 'n'),\n",
       " ((1, 0, 2), (1, 0, 0, 12), 'c'),\n",
       " ((1, 0, 2), (1, 0, 0, 12), 't'),\n",
       " ((1, 0, 2), (1, 0, 0, 12), 'ct'),\n",
       " ((1, 0, 2), (1, 0, 1, 12), 'n'),\n",
       " ((1, 0, 2), (1, 0, 1, 12), 'c'),\n",
       " ((1, 0, 2), (1, 0, 1, 12), 't'),\n",
       " ((1, 0, 2), (1, 0, 1, 12), 'ct'),\n",
       " ((1, 0, 2), (1, 0, 2, 12), 'n'),\n",
       " ((1, 0, 2), (1, 0, 2, 12), 'c'),\n",
       " ((1, 0, 2), (1, 0, 2, 12), 't'),\n",
       " ((1, 0, 2), (1, 0, 2, 12), 'ct'),\n",
       " ((1, 0, 2), (2, 0, 0, 12), 'n'),\n",
       " ((1, 0, 2), (2, 0, 0, 12), 'c'),\n",
       " ((1, 0, 2), (2, 0, 0, 12), 't'),\n",
       " ((1, 0, 2), (2, 0, 0, 12), 'ct'),\n",
       " ((1, 0, 2), (2, 0, 1, 12), 'n'),\n",
       " ((1, 0, 2), (2, 0, 1, 12), 'c'),\n",
       " ((1, 0, 2), (2, 0, 1, 12), 't'),\n",
       " ((1, 0, 2), (2, 0, 1, 12), 'ct'),\n",
       " ((1, 0, 2), (2, 0, 2, 12), 'n'),\n",
       " ((1, 0, 2), (2, 0, 2, 12), 'c'),\n",
       " ((1, 0, 2), (2, 0, 2, 12), 't'),\n",
       " ((1, 0, 2), (2, 0, 2, 12), 'ct'),\n",
       " ((1, 0, 3), (0, 0, 0, 12), 'n'),\n",
       " ((1, 0, 3), (0, 0, 0, 12), 'c'),\n",
       " ((1, 0, 3), (0, 0, 0, 12), 't'),\n",
       " ((1, 0, 3), (0, 0, 0, 12), 'ct'),\n",
       " ((1, 0, 3), (0, 0, 1, 12), 'n'),\n",
       " ((1, 0, 3), (0, 0, 1, 12), 'c'),\n",
       " ((1, 0, 3), (0, 0, 1, 12), 't'),\n",
       " ((1, 0, 3), (0, 0, 1, 12), 'ct'),\n",
       " ((1, 0, 3), (0, 0, 2, 12), 'n'),\n",
       " ((1, 0, 3), (0, 0, 2, 12), 'c'),\n",
       " ((1, 0, 3), (0, 0, 2, 12), 't'),\n",
       " ((1, 0, 3), (0, 0, 2, 12), 'ct'),\n",
       " ((1, 0, 3), (1, 0, 0, 12), 'n'),\n",
       " ((1, 0, 3), (1, 0, 0, 12), 'c'),\n",
       " ((1, 0, 3), (1, 0, 0, 12), 't'),\n",
       " ((1, 0, 3), (1, 0, 0, 12), 'ct'),\n",
       " ((1, 0, 3), (1, 0, 1, 12), 'n'),\n",
       " ((1, 0, 3), (1, 0, 1, 12), 'c'),\n",
       " ((1, 0, 3), (1, 0, 1, 12), 't'),\n",
       " ((1, 0, 3), (1, 0, 1, 12), 'ct'),\n",
       " ((1, 0, 3), (1, 0, 2, 12), 'n'),\n",
       " ((1, 0, 3), (1, 0, 2, 12), 'c'),\n",
       " ((1, 0, 3), (1, 0, 2, 12), 't'),\n",
       " ((1, 0, 3), (1, 0, 2, 12), 'ct'),\n",
       " ((1, 0, 3), (2, 0, 0, 12), 'n'),\n",
       " ((1, 0, 3), (2, 0, 0, 12), 'c'),\n",
       " ((1, 0, 3), (2, 0, 0, 12), 't'),\n",
       " ((1, 0, 3), (2, 0, 0, 12), 'ct'),\n",
       " ((1, 0, 3), (2, 0, 1, 12), 'n'),\n",
       " ((1, 0, 3), (2, 0, 1, 12), 'c'),\n",
       " ((1, 0, 3), (2, 0, 1, 12), 't'),\n",
       " ((1, 0, 3), (2, 0, 1, 12), 'ct'),\n",
       " ((1, 0, 3), (2, 0, 2, 12), 'n'),\n",
       " ((1, 0, 3), (2, 0, 2, 12), 'c'),\n",
       " ((1, 0, 3), (2, 0, 2, 12), 't'),\n",
       " ((1, 0, 3), (2, 0, 2, 12), 'ct'),\n",
       " ((2, 0, 0), (0, 0, 0, 12), 'n'),\n",
       " ((2, 0, 0), (0, 0, 0, 12), 'c'),\n",
       " ((2, 0, 0), (0, 0, 0, 12), 't'),\n",
       " ((2, 0, 0), (0, 0, 0, 12), 'ct'),\n",
       " ((2, 0, 0), (0, 0, 1, 12), 'n'),\n",
       " ((2, 0, 0), (0, 0, 1, 12), 'c'),\n",
       " ((2, 0, 0), (0, 0, 1, 12), 't'),\n",
       " ((2, 0, 0), (0, 0, 1, 12), 'ct'),\n",
       " ((2, 0, 0), (0, 0, 2, 12), 'n'),\n",
       " ((2, 0, 0), (0, 0, 2, 12), 'c'),\n",
       " ((2, 0, 0), (0, 0, 2, 12), 't'),\n",
       " ((2, 0, 0), (0, 0, 2, 12), 'ct'),\n",
       " ((2, 0, 0), (1, 0, 0, 12), 'n'),\n",
       " ((2, 0, 0), (1, 0, 0, 12), 'c'),\n",
       " ((2, 0, 0), (1, 0, 0, 12), 't'),\n",
       " ((2, 0, 0), (1, 0, 0, 12), 'ct'),\n",
       " ((2, 0, 0), (1, 0, 1, 12), 'n'),\n",
       " ((2, 0, 0), (1, 0, 1, 12), 'c'),\n",
       " ((2, 0, 0), (1, 0, 1, 12), 't'),\n",
       " ((2, 0, 0), (1, 0, 1, 12), 'ct'),\n",
       " ((2, 0, 0), (1, 0, 2, 12), 'n'),\n",
       " ((2, 0, 0), (1, 0, 2, 12), 'c'),\n",
       " ((2, 0, 0), (1, 0, 2, 12), 't'),\n",
       " ((2, 0, 0), (1, 0, 2, 12), 'ct'),\n",
       " ((2, 0, 0), (2, 0, 0, 12), 'n'),\n",
       " ((2, 0, 0), (2, 0, 0, 12), 'c'),\n",
       " ((2, 0, 0), (2, 0, 0, 12), 't'),\n",
       " ((2, 0, 0), (2, 0, 0, 12), 'ct'),\n",
       " ((2, 0, 0), (2, 0, 1, 12), 'n'),\n",
       " ((2, 0, 0), (2, 0, 1, 12), 'c'),\n",
       " ((2, 0, 0), (2, 0, 1, 12), 't'),\n",
       " ((2, 0, 0), (2, 0, 1, 12), 'ct'),\n",
       " ((2, 0, 0), (2, 0, 2, 12), 'n'),\n",
       " ((2, 0, 0), (2, 0, 2, 12), 'c'),\n",
       " ((2, 0, 0), (2, 0, 2, 12), 't'),\n",
       " ((2, 0, 0), (2, 0, 2, 12), 'ct'),\n",
       " ((2, 0, 1), (0, 0, 0, 12), 'n'),\n",
       " ((2, 0, 1), (0, 0, 0, 12), 'c'),\n",
       " ((2, 0, 1), (0, 0, 0, 12), 't'),\n",
       " ((2, 0, 1), (0, 0, 0, 12), 'ct'),\n",
       " ((2, 0, 1), (0, 0, 1, 12), 'n'),\n",
       " ((2, 0, 1), (0, 0, 1, 12), 'c'),\n",
       " ((2, 0, 1), (0, 0, 1, 12), 't'),\n",
       " ((2, 0, 1), (0, 0, 1, 12), 'ct'),\n",
       " ((2, 0, 1), (0, 0, 2, 12), 'n'),\n",
       " ((2, 0, 1), (0, 0, 2, 12), 'c'),\n",
       " ((2, 0, 1), (0, 0, 2, 12), 't'),\n",
       " ((2, 0, 1), (0, 0, 2, 12), 'ct'),\n",
       " ((2, 0, 1), (1, 0, 0, 12), 'n'),\n",
       " ((2, 0, 1), (1, 0, 0, 12), 'c'),\n",
       " ((2, 0, 1), (1, 0, 0, 12), 't'),\n",
       " ((2, 0, 1), (1, 0, 0, 12), 'ct'),\n",
       " ((2, 0, 1), (1, 0, 1, 12), 'n'),\n",
       " ((2, 0, 1), (1, 0, 1, 12), 'c'),\n",
       " ((2, 0, 1), (1, 0, 1, 12), 't'),\n",
       " ((2, 0, 1), (1, 0, 1, 12), 'ct'),\n",
       " ((2, 0, 1), (1, 0, 2, 12), 'n'),\n",
       " ((2, 0, 1), (1, 0, 2, 12), 'c'),\n",
       " ((2, 0, 1), (1, 0, 2, 12), 't'),\n",
       " ((2, 0, 1), (1, 0, 2, 12), 'ct'),\n",
       " ((2, 0, 1), (2, 0, 0, 12), 'n'),\n",
       " ((2, 0, 1), (2, 0, 0, 12), 'c'),\n",
       " ((2, 0, 1), (2, 0, 0, 12), 't'),\n",
       " ((2, 0, 1), (2, 0, 0, 12), 'ct'),\n",
       " ((2, 0, 1), (2, 0, 1, 12), 'n'),\n",
       " ((2, 0, 1), (2, 0, 1, 12), 'c'),\n",
       " ((2, 0, 1), (2, 0, 1, 12), 't'),\n",
       " ((2, 0, 1), (2, 0, 1, 12), 'ct'),\n",
       " ((2, 0, 1), (2, 0, 2, 12), 'n'),\n",
       " ((2, 0, 1), (2, 0, 2, 12), 'c'),\n",
       " ((2, 0, 1), (2, 0, 2, 12), 't'),\n",
       " ((2, 0, 1), (2, 0, 2, 12), 'ct'),\n",
       " ((2, 0, 2), (0, 0, 0, 12), 'n'),\n",
       " ((2, 0, 2), (0, 0, 0, 12), 'c'),\n",
       " ((2, 0, 2), (0, 0, 0, 12), 't'),\n",
       " ((2, 0, 2), (0, 0, 0, 12), 'ct'),\n",
       " ((2, 0, 2), (0, 0, 1, 12), 'n'),\n",
       " ((2, 0, 2), (0, 0, 1, 12), 'c'),\n",
       " ((2, 0, 2), (0, 0, 1, 12), 't'),\n",
       " ((2, 0, 2), (0, 0, 1, 12), 'ct'),\n",
       " ((2, 0, 2), (0, 0, 2, 12), 'n'),\n",
       " ((2, 0, 2), (0, 0, 2, 12), 'c'),\n",
       " ((2, 0, 2), (0, 0, 2, 12), 't'),\n",
       " ((2, 0, 2), (0, 0, 2, 12), 'ct'),\n",
       " ((2, 0, 2), (1, 0, 0, 12), 'n'),\n",
       " ((2, 0, 2), (1, 0, 0, 12), 'c'),\n",
       " ((2, 0, 2), (1, 0, 0, 12), 't'),\n",
       " ((2, 0, 2), (1, 0, 0, 12), 'ct'),\n",
       " ((2, 0, 2), (1, 0, 1, 12), 'n'),\n",
       " ((2, 0, 2), (1, 0, 1, 12), 'c'),\n",
       " ((2, 0, 2), (1, 0, 1, 12), 't'),\n",
       " ((2, 0, 2), (1, 0, 1, 12), 'ct'),\n",
       " ((2, 0, 2), (1, 0, 2, 12), 'n'),\n",
       " ((2, 0, 2), (1, 0, 2, 12), 'c'),\n",
       " ((2, 0, 2), (1, 0, 2, 12), 't'),\n",
       " ((2, 0, 2), (1, 0, 2, 12), 'ct'),\n",
       " ((2, 0, 2), (2, 0, 0, 12), 'n'),\n",
       " ((2, 0, 2), (2, 0, 0, 12), 'c'),\n",
       " ((2, 0, 2), (2, 0, 0, 12), 't'),\n",
       " ((2, 0, 2), (2, 0, 0, 12), 'ct'),\n",
       " ((2, 0, 2), (2, 0, 1, 12), 'n'),\n",
       " ((2, 0, 2), (2, 0, 1, 12), 'c'),\n",
       " ((2, 0, 2), (2, 0, 1, 12), 't'),\n",
       " ((2, 0, 2), (2, 0, 1, 12), 'ct'),\n",
       " ((2, 0, 2), (2, 0, 2, 12), 'n'),\n",
       " ((2, 0, 2), (2, 0, 2, 12), 'c'),\n",
       " ((2, 0, 2), (2, 0, 2, 12), 't'),\n",
       " ((2, 0, 2), (2, 0, 2, 12), 'ct'),\n",
       " ((2, 0, 3), (0, 0, 0, 12), 'n'),\n",
       " ((2, 0, 3), (0, 0, 0, 12), 'c'),\n",
       " ((2, 0, 3), (0, 0, 0, 12), 't'),\n",
       " ((2, 0, 3), (0, 0, 0, 12), 'ct'),\n",
       " ((2, 0, 3), (0, 0, 1, 12), 'n'),\n",
       " ((2, 0, 3), (0, 0, 1, 12), 'c'),\n",
       " ((2, 0, 3), (0, 0, 1, 12), 't'),\n",
       " ((2, 0, 3), (0, 0, 1, 12), 'ct'),\n",
       " ((2, 0, 3), (0, 0, 2, 12), 'n'),\n",
       " ((2, 0, 3), (0, 0, 2, 12), 'c'),\n",
       " ((2, 0, 3), (0, 0, 2, 12), 't'),\n",
       " ((2, 0, 3), (0, 0, 2, 12), 'ct'),\n",
       " ((2, 0, 3), (1, 0, 0, 12), 'n'),\n",
       " ((2, 0, 3), (1, 0, 0, 12), 'c'),\n",
       " ((2, 0, 3), (1, 0, 0, 12), 't'),\n",
       " ((2, 0, 3), (1, 0, 0, 12), 'ct'),\n",
       " ((2, 0, 3), (1, 0, 1, 12), 'n'),\n",
       " ((2, 0, 3), (1, 0, 1, 12), 'c'),\n",
       " ((2, 0, 3), (1, 0, 1, 12), 't'),\n",
       " ((2, 0, 3), (1, 0, 1, 12), 'ct'),\n",
       " ((2, 0, 3), (1, 0, 2, 12), 'n'),\n",
       " ((2, 0, 3), (1, 0, 2, 12), 'c'),\n",
       " ((2, 0, 3), (1, 0, 2, 12), 't'),\n",
       " ((2, 0, 3), (1, 0, 2, 12), 'ct'),\n",
       " ((2, 0, 3), (2, 0, 0, 12), 'n'),\n",
       " ((2, 0, 3), (2, 0, 0, 12), 'c'),\n",
       " ((2, 0, 3), (2, 0, 0, 12), 't'),\n",
       " ((2, 0, 3), (2, 0, 0, 12), 'ct'),\n",
       " ((2, 0, 3), (2, 0, 1, 12), 'n'),\n",
       " ((2, 0, 3), (2, 0, 1, 12), 'c'),\n",
       " ((2, 0, 3), (2, 0, 1, 12), 't'),\n",
       " ((2, 0, 3), (2, 0, 1, 12), 'ct'),\n",
       " ((2, 0, 3), (2, 0, 2, 12), 'n'),\n",
       " ((2, 0, 3), (2, 0, 2, 12), 'c'),\n",
       " ((2, 0, 3), (2, 0, 2, 12), 't'),\n",
       " ((2, 0, 3), (2, 0, 2, 12), 'ct'),\n",
       " ((3, 0, 0), (0, 0, 0, 12), 'n'),\n",
       " ((3, 0, 0), (0, 0, 0, 12), 'c'),\n",
       " ((3, 0, 0), (0, 0, 0, 12), 't'),\n",
       " ((3, 0, 0), (0, 0, 0, 12), 'ct'),\n",
       " ((3, 0, 0), (0, 0, 1, 12), 'n'),\n",
       " ((3, 0, 0), (0, 0, 1, 12), 'c'),\n",
       " ((3, 0, 0), (0, 0, 1, 12), 't'),\n",
       " ((3, 0, 0), (0, 0, 1, 12), 'ct'),\n",
       " ((3, 0, 0), (0, 0, 2, 12), 'n'),\n",
       " ((3, 0, 0), (0, 0, 2, 12), 'c'),\n",
       " ((3, 0, 0), (0, 0, 2, 12), 't'),\n",
       " ((3, 0, 0), (0, 0, 2, 12), 'ct'),\n",
       " ((3, 0, 0), (1, 0, 0, 12), 'n'),\n",
       " ((3, 0, 0), (1, 0, 0, 12), 'c'),\n",
       " ((3, 0, 0), (1, 0, 0, 12), 't'),\n",
       " ((3, 0, 0), (1, 0, 0, 12), 'ct'),\n",
       " ((3, 0, 0), (1, 0, 1, 12), 'n'),\n",
       " ((3, 0, 0), (1, 0, 1, 12), 'c'),\n",
       " ((3, 0, 0), (1, 0, 1, 12), 't'),\n",
       " ((3, 0, 0), (1, 0, 1, 12), 'ct'),\n",
       " ((3, 0, 0), (1, 0, 2, 12), 'n'),\n",
       " ((3, 0, 0), (1, 0, 2, 12), 'c'),\n",
       " ((3, 0, 0), (1, 0, 2, 12), 't'),\n",
       " ((3, 0, 0), (1, 0, 2, 12), 'ct'),\n",
       " ((3, 0, 0), (2, 0, 0, 12), 'n'),\n",
       " ((3, 0, 0), (2, 0, 0, 12), 'c'),\n",
       " ((3, 0, 0), (2, 0, 0, 12), 't'),\n",
       " ((3, 0, 0), (2, 0, 0, 12), 'ct'),\n",
       " ((3, 0, 0), (2, 0, 1, 12), 'n'),\n",
       " ((3, 0, 0), (2, 0, 1, 12), 'c'),\n",
       " ((3, 0, 0), (2, 0, 1, 12), 't'),\n",
       " ((3, 0, 0), (2, 0, 1, 12), 'ct'),\n",
       " ((3, 0, 0), (2, 0, 2, 12), 'n'),\n",
       " ((3, 0, 0), (2, 0, 2, 12), 'c'),\n",
       " ((3, 0, 0), (2, 0, 2, 12), 't'),\n",
       " ((3, 0, 0), (2, 0, 2, 12), 'ct'),\n",
       " ((3, 0, 1), (0, 0, 0, 12), 'n'),\n",
       " ((3, 0, 1), (0, 0, 0, 12), 'c'),\n",
       " ((3, 0, 1), (0, 0, 0, 12), 't'),\n",
       " ((3, 0, 1), (0, 0, 0, 12), 'ct'),\n",
       " ((3, 0, 1), (0, 0, 1, 12), 'n'),\n",
       " ((3, 0, 1), (0, 0, 1, 12), 'c'),\n",
       " ((3, 0, 1), (0, 0, 1, 12), 't'),\n",
       " ((3, 0, 1), (0, 0, 1, 12), 'ct'),\n",
       " ((3, 0, 1), (0, 0, 2, 12), 'n'),\n",
       " ((3, 0, 1), (0, 0, 2, 12), 'c'),\n",
       " ((3, 0, 1), (0, 0, 2, 12), 't'),\n",
       " ((3, 0, 1), (0, 0, 2, 12), 'ct'),\n",
       " ((3, 0, 1), (1, 0, 0, 12), 'n'),\n",
       " ((3, 0, 1), (1, 0, 0, 12), 'c'),\n",
       " ((3, 0, 1), (1, 0, 0, 12), 't'),\n",
       " ((3, 0, 1), (1, 0, 0, 12), 'ct'),\n",
       " ((3, 0, 1), (1, 0, 1, 12), 'n'),\n",
       " ((3, 0, 1), (1, 0, 1, 12), 'c'),\n",
       " ((3, 0, 1), (1, 0, 1, 12), 't'),\n",
       " ((3, 0, 1), (1, 0, 1, 12), 'ct'),\n",
       " ((3, 0, 1), (1, 0, 2, 12), 'n'),\n",
       " ((3, 0, 1), (1, 0, 2, 12), 'c'),\n",
       " ((3, 0, 1), (1, 0, 2, 12), 't'),\n",
       " ((3, 0, 1), (1, 0, 2, 12), 'ct'),\n",
       " ((3, 0, 1), (2, 0, 0, 12), 'n'),\n",
       " ((3, 0, 1), (2, 0, 0, 12), 'c'),\n",
       " ((3, 0, 1), (2, 0, 0, 12), 't'),\n",
       " ((3, 0, 1), (2, 0, 0, 12), 'ct'),\n",
       " ((3, 0, 1), (2, 0, 1, 12), 'n'),\n",
       " ((3, 0, 1), (2, 0, 1, 12), 'c'),\n",
       " ((3, 0, 1), (2, 0, 1, 12), 't'),\n",
       " ((3, 0, 1), (2, 0, 1, 12), 'ct'),\n",
       " ((3, 0, 1), (2, 0, 2, 12), 'n'),\n",
       " ((3, 0, 1), (2, 0, 2, 12), 'c'),\n",
       " ((3, 0, 1), (2, 0, 2, 12), 't'),\n",
       " ((3, 0, 1), (2, 0, 2, 12), 'ct'),\n",
       " ((3, 0, 2), (0, 0, 0, 12), 'n'),\n",
       " ((3, 0, 2), (0, 0, 0, 12), 'c'),\n",
       " ((3, 0, 2), (0, 0, 0, 12), 't'),\n",
       " ((3, 0, 2), (0, 0, 0, 12), 'ct'),\n",
       " ((3, 0, 2), (0, 0, 1, 12), 'n'),\n",
       " ((3, 0, 2), (0, 0, 1, 12), 'c'),\n",
       " ((3, 0, 2), (0, 0, 1, 12), 't'),\n",
       " ((3, 0, 2), (0, 0, 1, 12), 'ct'),\n",
       " ((3, 0, 2), (0, 0, 2, 12), 'n'),\n",
       " ((3, 0, 2), (0, 0, 2, 12), 'c'),\n",
       " ((3, 0, 2), (0, 0, 2, 12), 't'),\n",
       " ((3, 0, 2), (0, 0, 2, 12), 'ct'),\n",
       " ((3, 0, 2), (1, 0, 0, 12), 'n'),\n",
       " ((3, 0, 2), (1, 0, 0, 12), 'c'),\n",
       " ((3, 0, 2), (1, 0, 0, 12), 't'),\n",
       " ((3, 0, 2), (1, 0, 0, 12), 'ct'),\n",
       " ((3, 0, 2), (1, 0, 1, 12), 'n'),\n",
       " ((3, 0, 2), (1, 0, 1, 12), 'c'),\n",
       " ((3, 0, 2), (1, 0, 1, 12), 't'),\n",
       " ((3, 0, 2), (1, 0, 1, 12), 'ct'),\n",
       " ((3, 0, 2), (1, 0, 2, 12), 'n'),\n",
       " ((3, 0, 2), (1, 0, 2, 12), 'c'),\n",
       " ((3, 0, 2), (1, 0, 2, 12), 't'),\n",
       " ((3, 0, 2), (1, 0, 2, 12), 'ct'),\n",
       " ((3, 0, 2), (2, 0, 0, 12), 'n'),\n",
       " ((3, 0, 2), (2, 0, 0, 12), 'c'),\n",
       " ((3, 0, 2), (2, 0, 0, 12), 't'),\n",
       " ((3, 0, 2), (2, 0, 0, 12), 'ct'),\n",
       " ((3, 0, 2), (2, 0, 1, 12), 'n'),\n",
       " ((3, 0, 2), (2, 0, 1, 12), 'c'),\n",
       " ((3, 0, 2), (2, 0, 1, 12), 't'),\n",
       " ((3, 0, 2), (2, 0, 1, 12), 'ct'),\n",
       " ((3, 0, 2), (2, 0, 2, 12), 'n'),\n",
       " ((3, 0, 2), (2, 0, 2, 12), 'c'),\n",
       " ((3, 0, 2), (2, 0, 2, 12), 't'),\n",
       " ((3, 0, 2), (2, 0, 2, 12), 'ct'),\n",
       " ((3, 0, 3), (0, 0, 0, 12), 'n'),\n",
       " ((3, 0, 3), (0, 0, 0, 12), 'c'),\n",
       " ((3, 0, 3), (0, 0, 0, 12), 't'),\n",
       " ((3, 0, 3), (0, 0, 0, 12), 'ct'),\n",
       " ((3, 0, 3), (0, 0, 1, 12), 'n'),\n",
       " ((3, 0, 3), (0, 0, 1, 12), 'c'),\n",
       " ((3, 0, 3), (0, 0, 1, 12), 't'),\n",
       " ((3, 0, 3), (0, 0, 1, 12), 'ct'),\n",
       " ((3, 0, 3), (0, 0, 2, 12), 'n'),\n",
       " ((3, 0, 3), (0, 0, 2, 12), 'c'),\n",
       " ((3, 0, 3), (0, 0, 2, 12), 't'),\n",
       " ((3, 0, 3), (0, 0, 2, 12), 'ct'),\n",
       " ((3, 0, 3), (1, 0, 0, 12), 'n'),\n",
       " ((3, 0, 3), (1, 0, 0, 12), 'c'),\n",
       " ((3, 0, 3), (1, 0, 0, 12), 't'),\n",
       " ((3, 0, 3), (1, 0, 0, 12), 'ct'),\n",
       " ((3, 0, 3), (1, 0, 1, 12), 'n'),\n",
       " ((3, 0, 3), (1, 0, 1, 12), 'c'),\n",
       " ((3, 0, 3), (1, 0, 1, 12), 't'),\n",
       " ((3, 0, 3), (1, 0, 1, 12), 'ct'),\n",
       " ((3, 0, 3), (1, 0, 2, 12), 'n'),\n",
       " ((3, 0, 3), (1, 0, 2, 12), 'c'),\n",
       " ((3, 0, 3), (1, 0, 2, 12), 't'),\n",
       " ((3, 0, 3), (1, 0, 2, 12), 'ct'),\n",
       " ((3, 0, 3), (2, 0, 0, 12), 'n'),\n",
       " ((3, 0, 3), (2, 0, 0, 12), 'c'),\n",
       " ((3, 0, 3), (2, 0, 0, 12), 't'),\n",
       " ((3, 0, 3), (2, 0, 0, 12), 'ct'),\n",
       " ((3, 0, 3), (2, 0, 1, 12), 'n'),\n",
       " ((3, 0, 3), (2, 0, 1, 12), 'c'),\n",
       " ((3, 0, 3), (2, 0, 1, 12), 't'),\n",
       " ((3, 0, 3), (2, 0, 1, 12), 'ct'),\n",
       " ((3, 0, 3), (2, 0, 2, 12), 'n'),\n",
       " ((3, 0, 3), (2, 0, 2, 12), 'c'),\n",
       " ((3, 0, 3), (2, 0, 2, 12), 't'),\n",
       " ((3, 0, 3), (2, 0, 2, 12), 'ct'),\n",
       " ((4, 0, 0), (0, 0, 0, 12), 'n'),\n",
       " ((4, 0, 0), (0, 0, 0, 12), 'c'),\n",
       " ((4, 0, 0), (0, 0, 0, 12), 't'),\n",
       " ((4, 0, 0), (0, 0, 0, 12), 'ct'),\n",
       " ((4, 0, 0), (0, 0, 1, 12), 'n'),\n",
       " ((4, 0, 0), (0, 0, 1, 12), 'c'),\n",
       " ((4, 0, 0), (0, 0, 1, 12), 't'),\n",
       " ((4, 0, 0), (0, 0, 1, 12), 'ct'),\n",
       " ((4, 0, 0), (0, 0, 2, 12), 'n'),\n",
       " ((4, 0, 0), (0, 0, 2, 12), 'c'),\n",
       " ((4, 0, 0), (0, 0, 2, 12), 't'),\n",
       " ((4, 0, 0), (0, 0, 2, 12), 'ct'),\n",
       " ((4, 0, 0), (1, 0, 0, 12), 'n'),\n",
       " ((4, 0, 0), (1, 0, 0, 12), 'c'),\n",
       " ((4, 0, 0), (1, 0, 0, 12), 't'),\n",
       " ((4, 0, 0), (1, 0, 0, 12), 'ct'),\n",
       " ((4, 0, 0), (1, 0, 1, 12), 'n'),\n",
       " ((4, 0, 0), (1, 0, 1, 12), 'c'),\n",
       " ((4, 0, 0), (1, 0, 1, 12), 't'),\n",
       " ((4, 0, 0), (1, 0, 1, 12), 'ct'),\n",
       " ((4, 0, 0), (1, 0, 2, 12), 'n'),\n",
       " ((4, 0, 0), (1, 0, 2, 12), 'c'),\n",
       " ((4, 0, 0), (1, 0, 2, 12), 't'),\n",
       " ((4, 0, 0), (1, 0, 2, 12), 'ct'),\n",
       " ((4, 0, 0), (2, 0, 0, 12), 'n'),\n",
       " ((4, 0, 0), (2, 0, 0, 12), 'c'),\n",
       " ((4, 0, 0), (2, 0, 0, 12), 't'),\n",
       " ((4, 0, 0), (2, 0, 0, 12), 'ct'),\n",
       " ((4, 0, 0), (2, 0, 1, 12), 'n'),\n",
       " ((4, 0, 0), (2, 0, 1, 12), 'c'),\n",
       " ((4, 0, 0), (2, 0, 1, 12), 't'),\n",
       " ((4, 0, 0), (2, 0, 1, 12), 'ct'),\n",
       " ((4, 0, 0), (2, 0, 2, 12), 'n'),\n",
       " ((4, 0, 0), (2, 0, 2, 12), 'c'),\n",
       " ((4, 0, 0), (2, 0, 2, 12), 't'),\n",
       " ((4, 0, 0), (2, 0, 2, 12), 'ct'),\n",
       " ((4, 0, 1), (0, 0, 0, 12), 'n'),\n",
       " ((4, 0, 1), (0, 0, 0, 12), 'c'),\n",
       " ((4, 0, 1), (0, 0, 0, 12), 't'),\n",
       " ((4, 0, 1), (0, 0, 0, 12), 'ct'),\n",
       " ((4, 0, 1), (0, 0, 1, 12), 'n'),\n",
       " ((4, 0, 1), (0, 0, 1, 12), 'c'),\n",
       " ((4, 0, 1), (0, 0, 1, 12), 't'),\n",
       " ((4, 0, 1), (0, 0, 1, 12), 'ct'),\n",
       " ((4, 0, 1), (0, 0, 2, 12), 'n'),\n",
       " ((4, 0, 1), (0, 0, 2, 12), 'c'),\n",
       " ((4, 0, 1), (0, 0, 2, 12), 't'),\n",
       " ((4, 0, 1), (0, 0, 2, 12), 'ct'),\n",
       " ((4, 0, 1), (1, 0, 0, 12), 'n'),\n",
       " ((4, 0, 1), (1, 0, 0, 12), 'c'),\n",
       " ((4, 0, 1), (1, 0, 0, 12), 't'),\n",
       " ((4, 0, 1), (1, 0, 0, 12), 'ct'),\n",
       " ((4, 0, 1), (1, 0, 1, 12), 'n'),\n",
       " ((4, 0, 1), (1, 0, 1, 12), 'c'),\n",
       " ((4, 0, 1), (1, 0, 1, 12), 't'),\n",
       " ((4, 0, 1), (1, 0, 1, 12), 'ct'),\n",
       " ((4, 0, 1), (1, 0, 2, 12), 'n'),\n",
       " ((4, 0, 1), (1, 0, 2, 12), 'c'),\n",
       " ((4, 0, 1), (1, 0, 2, 12), 't'),\n",
       " ((4, 0, 1), (1, 0, 2, 12), 'ct'),\n",
       " ((4, 0, 1), (2, 0, 0, 12), 'n'),\n",
       " ((4, 0, 1), (2, 0, 0, 12), 'c'),\n",
       " ((4, 0, 1), (2, 0, 0, 12), 't'),\n",
       " ((4, 0, 1), (2, 0, 0, 12), 'ct'),\n",
       " ((4, 0, 1), (2, 0, 1, 12), 'n'),\n",
       " ((4, 0, 1), (2, 0, 1, 12), 'c'),\n",
       " ((4, 0, 1), (2, 0, 1, 12), 't'),\n",
       " ((4, 0, 1), (2, 0, 1, 12), 'ct'),\n",
       " ((4, 0, 1), (2, 0, 2, 12), 'n'),\n",
       " ((4, 0, 1), (2, 0, 2, 12), 'c'),\n",
       " ((4, 0, 1), (2, 0, 2, 12), 't'),\n",
       " ((4, 0, 1), (2, 0, 2, 12), 'ct'),\n",
       " ((4, 0, 2), (0, 0, 0, 12), 'n'),\n",
       " ((4, 0, 2), (0, 0, 0, 12), 'c'),\n",
       " ((4, 0, 2), (0, 0, 0, 12), 't'),\n",
       " ((4, 0, 2), (0, 0, 0, 12), 'ct'),\n",
       " ((4, 0, 2), (0, 0, 1, 12), 'n'),\n",
       " ((4, 0, 2), (0, 0, 1, 12), 'c'),\n",
       " ((4, 0, 2), (0, 0, 1, 12), 't'),\n",
       " ((4, 0, 2), (0, 0, 1, 12), 'ct'),\n",
       " ((4, 0, 2), (0, 0, 2, 12), 'n'),\n",
       " ((4, 0, 2), (0, 0, 2, 12), 'c'),\n",
       " ((4, 0, 2), (0, 0, 2, 12), 't'),\n",
       " ((4, 0, 2), (0, 0, 2, 12), 'ct'),\n",
       " ((4, 0, 2), (1, 0, 0, 12), 'n'),\n",
       " ((4, 0, 2), (1, 0, 0, 12), 'c'),\n",
       " ((4, 0, 2), (1, 0, 0, 12), 't'),\n",
       " ((4, 0, 2), (1, 0, 0, 12), 'ct'),\n",
       " ((4, 0, 2), (1, 0, 1, 12), 'n'),\n",
       " ((4, 0, 2), (1, 0, 1, 12), 'c'),\n",
       " ((4, 0, 2), (1, 0, 1, 12), 't'),\n",
       " ((4, 0, 2), (1, 0, 1, 12), 'ct'),\n",
       " ((4, 0, 2), (1, 0, 2, 12), 'n'),\n",
       " ((4, 0, 2), (1, 0, 2, 12), 'c'),\n",
       " ((4, 0, 2), (1, 0, 2, 12), 't'),\n",
       " ((4, 0, 2), (1, 0, 2, 12), 'ct'),\n",
       " ((4, 0, 2), (2, 0, 0, 12), 'n'),\n",
       " ((4, 0, 2), (2, 0, 0, 12), 'c'),\n",
       " ((4, 0, 2), (2, 0, 0, 12), 't'),\n",
       " ((4, 0, 2), (2, 0, 0, 12), 'ct'),\n",
       " ((4, 0, 2), (2, 0, 1, 12), 'n'),\n",
       " ((4, 0, 2), (2, 0, 1, 12), 'c'),\n",
       " ((4, 0, 2), (2, 0, 1, 12), 't'),\n",
       " ((4, 0, 2), (2, 0, 1, 12), 'ct'),\n",
       " ((4, 0, 2), (2, 0, 2, 12), 'n'),\n",
       " ((4, 0, 2), (2, 0, 2, 12), 'c'),\n",
       " ((4, 0, 2), (2, 0, 2, 12), 't'),\n",
       " ((4, 0, 2), (2, 0, 2, 12), 'ct'),\n",
       " ((4, 0, 3), (0, 0, 0, 12), 'n'),\n",
       " ((4, 0, 3), (0, 0, 0, 12), 'c'),\n",
       " ((4, 0, 3), (0, 0, 0, 12), 't'),\n",
       " ((4, 0, 3), (0, 0, 0, 12), 'ct'),\n",
       " ((4, 0, 3), (0, 0, 1, 12), 'n'),\n",
       " ((4, 0, 3), (0, 0, 1, 12), 'c'),\n",
       " ((4, 0, 3), (0, 0, 1, 12), 't'),\n",
       " ((4, 0, 3), (0, 0, 1, 12), 'ct'),\n",
       " ((4, 0, 3), (0, 0, 2, 12), 'n'),\n",
       " ((4, 0, 3), (0, 0, 2, 12), 'c'),\n",
       " ((4, 0, 3), (0, 0, 2, 12), 't'),\n",
       " ((4, 0, 3), (0, 0, 2, 12), 'ct'),\n",
       " ((4, 0, 3), (1, 0, 0, 12), 'n'),\n",
       " ((4, 0, 3), (1, 0, 0, 12), 'c'),\n",
       " ((4, 0, 3), (1, 0, 0, 12), 't'),\n",
       " ((4, 0, 3), (1, 0, 0, 12), 'ct'),\n",
       " ((4, 0, 3), (1, 0, 1, 12), 'n'),\n",
       " ((4, 0, 3), (1, 0, 1, 12), 'c'),\n",
       " ((4, 0, 3), (1, 0, 1, 12), 't'),\n",
       " ((4, 0, 3), (1, 0, 1, 12), 'ct'),\n",
       " ((4, 0, 3), (1, 0, 2, 12), 'n'),\n",
       " ((4, 0, 3), (1, 0, 2, 12), 'c'),\n",
       " ((4, 0, 3), (1, 0, 2, 12), 't'),\n",
       " ((4, 0, 3), (1, 0, 2, 12), 'ct'),\n",
       " ((4, 0, 3), (2, 0, 0, 12), 'n'),\n",
       " ((4, 0, 3), (2, 0, 0, 12), 'c'),\n",
       " ((4, 0, 3), (2, 0, 0, 12), 't'),\n",
       " ((4, 0, 3), (2, 0, 0, 12), 'ct'),\n",
       " ((4, 0, 3), (2, 0, 1, 12), 'n'),\n",
       " ((4, 0, 3), (2, 0, 1, 12), 'c'),\n",
       " ((4, 0, 3), (2, 0, 1, 12), 't'),\n",
       " ((4, 0, 3), (2, 0, 1, 12), 'ct'),\n",
       " ((4, 0, 3), (2, 0, 2, 12), 'n'),\n",
       " ((4, 0, 3), (2, 0, 2, 12), 'c'),\n",
       " ((4, 0, 3), (2, 0, 2, 12), 't'),\n",
       " ((4, 0, 3), (2, 0, 2, 12), 'ct'),\n",
       " ((5, 0, 0), (0, 0, 0, 12), 'n'),\n",
       " ((5, 0, 0), (0, 0, 0, 12), 'c'),\n",
       " ((5, 0, 0), (0, 0, 0, 12), 't'),\n",
       " ((5, 0, 0), (0, 0, 0, 12), 'ct'),\n",
       " ((5, 0, 0), (0, 0, 1, 12), 'n'),\n",
       " ((5, 0, 0), (0, 0, 1, 12), 'c'),\n",
       " ((5, 0, 0), (0, 0, 1, 12), 't'),\n",
       " ((5, 0, 0), (0, 0, 1, 12), 'ct'),\n",
       " ((5, 0, 0), (0, 0, 2, 12), 'n'),\n",
       " ((5, 0, 0), (0, 0, 2, 12), 'c'),\n",
       " ((5, 0, 0), (0, 0, 2, 12), 't'),\n",
       " ((5, 0, 0), (0, 0, 2, 12), 'ct'),\n",
       " ((5, 0, 0), (1, 0, 0, 12), 'n'),\n",
       " ((5, 0, 0), (1, 0, 0, 12), 'c'),\n",
       " ((5, 0, 0), (1, 0, 0, 12), 't'),\n",
       " ((5, 0, 0), (1, 0, 0, 12), 'ct'),\n",
       " ((5, 0, 0), (1, 0, 1, 12), 'n'),\n",
       " ((5, 0, 0), (1, 0, 1, 12), 'c'),\n",
       " ((5, 0, 0), (1, 0, 1, 12), 't'),\n",
       " ((5, 0, 0), (1, 0, 1, 12), 'ct'),\n",
       " ((5, 0, 0), (1, 0, 2, 12), 'n'),\n",
       " ((5, 0, 0), (1, 0, 2, 12), 'c'),\n",
       " ((5, 0, 0), (1, 0, 2, 12), 't'),\n",
       " ((5, 0, 0), (1, 0, 2, 12), 'ct'),\n",
       " ((5, 0, 0), (2, 0, 0, 12), 'n'),\n",
       " ((5, 0, 0), (2, 0, 0, 12), 'c'),\n",
       " ((5, 0, 0), (2, 0, 0, 12), 't'),\n",
       " ((5, 0, 0), (2, 0, 0, 12), 'ct'),\n",
       " ((5, 0, 0), (2, 0, 1, 12), 'n'),\n",
       " ((5, 0, 0), (2, 0, 1, 12), 'c'),\n",
       " ((5, 0, 0), (2, 0, 1, 12), 't'),\n",
       " ((5, 0, 0), (2, 0, 1, 12), 'ct'),\n",
       " ((5, 0, 0), (2, 0, 2, 12), 'n'),\n",
       " ((5, 0, 0), (2, 0, 2, 12), 'c'),\n",
       " ((5, 0, 0), (2, 0, 2, 12), 't'),\n",
       " ((5, 0, 0), (2, 0, 2, 12), 'ct'),\n",
       " ((5, 0, 1), (0, 0, 0, 12), 'n'),\n",
       " ((5, 0, 1), (0, 0, 0, 12), 'c'),\n",
       " ((5, 0, 1), (0, 0, 0, 12), 't'),\n",
       " ((5, 0, 1), (0, 0, 0, 12), 'ct'),\n",
       " ((5, 0, 1), (0, 0, 1, 12), 'n'),\n",
       " ((5, 0, 1), (0, 0, 1, 12), 'c'),\n",
       " ((5, 0, 1), (0, 0, 1, 12), 't'),\n",
       " ((5, 0, 1), (0, 0, 1, 12), 'ct'),\n",
       " ((5, 0, 1), (0, 0, 2, 12), 'n'),\n",
       " ((5, 0, 1), (0, 0, 2, 12), 'c'),\n",
       " ((5, 0, 1), (0, 0, 2, 12), 't'),\n",
       " ((5, 0, 1), (0, 0, 2, 12), 'ct'),\n",
       " ((5, 0, 1), (1, 0, 0, 12), 'n'),\n",
       " ((5, 0, 1), (1, 0, 0, 12), 'c'),\n",
       " ((5, 0, 1), (1, 0, 0, 12), 't'),\n",
       " ((5, 0, 1), (1, 0, 0, 12), 'ct'),\n",
       " ((5, 0, 1), (1, 0, 1, 12), 'n'),\n",
       " ((5, 0, 1), (1, 0, 1, 12), 'c'),\n",
       " ((5, 0, 1), (1, 0, 1, 12), 't'),\n",
       " ((5, 0, 1), (1, 0, 1, 12), 'ct'),\n",
       " ((5, 0, 1), (1, 0, 2, 12), 'n'),\n",
       " ((5, 0, 1), (1, 0, 2, 12), 'c'),\n",
       " ((5, 0, 1), (1, 0, 2, 12), 't'),\n",
       " ((5, 0, 1), (1, 0, 2, 12), 'ct'),\n",
       " ((5, 0, 1), (2, 0, 0, 12), 'n'),\n",
       " ((5, 0, 1), (2, 0, 0, 12), 'c'),\n",
       " ((5, 0, 1), (2, 0, 0, 12), 't'),\n",
       " ((5, 0, 1), (2, 0, 0, 12), 'ct'),\n",
       " ((5, 0, 1), (2, 0, 1, 12), 'n'),\n",
       " ((5, 0, 1), (2, 0, 1, 12), 'c'),\n",
       " ((5, 0, 1), (2, 0, 1, 12), 't'),\n",
       " ((5, 0, 1), (2, 0, 1, 12), 'ct'),\n",
       " ((5, 0, 1), (2, 0, 2, 12), 'n'),\n",
       " ((5, 0, 1), (2, 0, 2, 12), 'c'),\n",
       " ((5, 0, 1), (2, 0, 2, 12), 't'),\n",
       " ((5, 0, 1), (2, 0, 2, 12), 'ct'),\n",
       " ((5, 0, 2), (0, 0, 0, 12), 'n'),\n",
       " ((5, 0, 2), (0, 0, 0, 12), 'c'),\n",
       " ((5, 0, 2), (0, 0, 0, 12), 't'),\n",
       " ((5, 0, 2), (0, 0, 0, 12), 'ct'),\n",
       " ((5, 0, 2), (0, 0, 1, 12), 'n'),\n",
       " ((5, 0, 2), (0, 0, 1, 12), 'c'),\n",
       " ((5, 0, 2), (0, 0, 1, 12), 't'),\n",
       " ((5, 0, 2), (0, 0, 1, 12), 'ct'),\n",
       " ((5, 0, 2), (0, 0, 2, 12), 'n'),\n",
       " ((5, 0, 2), (0, 0, 2, 12), 'c'),\n",
       " ((5, 0, 2), (0, 0, 2, 12), 't'),\n",
       " ((5, 0, 2), (0, 0, 2, 12), 'ct'),\n",
       " ((5, 0, 2), (1, 0, 0, 12), 'n'),\n",
       " ((5, 0, 2), (1, 0, 0, 12), 'c'),\n",
       " ((5, 0, 2), (1, 0, 0, 12), 't'),\n",
       " ((5, 0, 2), (1, 0, 0, 12), 'ct'),\n",
       " ((5, 0, 2), (1, 0, 1, 12), 'n'),\n",
       " ((5, 0, 2), (1, 0, 1, 12), 'c'),\n",
       " ((5, 0, 2), (1, 0, 1, 12), 't'),\n",
       " ((5, 0, 2), (1, 0, 1, 12), 'ct'),\n",
       " ((5, 0, 2), (1, 0, 2, 12), 'n'),\n",
       " ((5, 0, 2), (1, 0, 2, 12), 'c'),\n",
       " ((5, 0, 2), (1, 0, 2, 12), 't'),\n",
       " ((5, 0, 2), (1, 0, 2, 12), 'ct'),\n",
       " ((5, 0, 2), (2, 0, 0, 12), 'n'),\n",
       " ((5, 0, 2), (2, 0, 0, 12), 'c'),\n",
       " ((5, 0, 2), (2, 0, 0, 12), 't'),\n",
       " ((5, 0, 2), (2, 0, 0, 12), 'ct'),\n",
       " ((5, 0, 2), (2, 0, 1, 12), 'n'),\n",
       " ((5, 0, 2), (2, 0, 1, 12), 'c'),\n",
       " ((5, 0, 2), (2, 0, 1, 12), 't'),\n",
       " ((5, 0, 2), (2, 0, 1, 12), 'ct'),\n",
       " ((5, 0, 2), (2, 0, 2, 12), 'n'),\n",
       " ((5, 0, 2), (2, 0, 2, 12), 'c'),\n",
       " ((5, 0, 2), (2, 0, 2, 12), 't'),\n",
       " ((5, 0, 2), (2, 0, 2, 12), 'ct'),\n",
       " ((5, 0, 3), (0, 0, 0, 12), 'n'),\n",
       " ((5, 0, 3), (0, 0, 0, 12), 'c'),\n",
       " ((5, 0, 3), (0, 0, 0, 12), 't'),\n",
       " ((5, 0, 3), (0, 0, 0, 12), 'ct'),\n",
       " ((5, 0, 3), (0, 0, 1, 12), 'n'),\n",
       " ((5, 0, 3), (0, 0, 1, 12), 'c'),\n",
       " ((5, 0, 3), (0, 0, 1, 12), 't'),\n",
       " ((5, 0, 3), (0, 0, 1, 12), 'ct'),\n",
       " ((5, 0, 3), (0, 0, 2, 12), 'n'),\n",
       " ((5, 0, 3), (0, 0, 2, 12), 'c'),\n",
       " ((5, 0, 3), (0, 0, 2, 12), 't'),\n",
       " ((5, 0, 3), (0, 0, 2, 12), 'ct'),\n",
       " ((5, 0, 3), (1, 0, 0, 12), 'n'),\n",
       " ((5, 0, 3), (1, 0, 0, 12), 'c'),\n",
       " ((5, 0, 3), (1, 0, 0, 12), 't'),\n",
       " ((5, 0, 3), (1, 0, 0, 12), 'ct'),\n",
       " ((5, 0, 3), (1, 0, 1, 12), 'n'),\n",
       " ((5, 0, 3), (1, 0, 1, 12), 'c'),\n",
       " ((5, 0, 3), (1, 0, 1, 12), 't'),\n",
       " ((5, 0, 3), (1, 0, 1, 12), 'ct'),\n",
       " ((5, 0, 3), (1, 0, 2, 12), 'n'),\n",
       " ((5, 0, 3), (1, 0, 2, 12), 'c'),\n",
       " ((5, 0, 3), (1, 0, 2, 12), 't'),\n",
       " ((5, 0, 3), (1, 0, 2, 12), 'ct'),\n",
       " ((5, 0, 3), (2, 0, 0, 12), 'n'),\n",
       " ((5, 0, 3), (2, 0, 0, 12), 'c'),\n",
       " ((5, 0, 3), (2, 0, 0, 12), 't'),\n",
       " ((5, 0, 3), (2, 0, 0, 12), 'ct'),\n",
       " ((5, 0, 3), (2, 0, 1, 12), 'n'),\n",
       " ((5, 0, 3), (2, 0, 1, 12), 'c'),\n",
       " ((5, 0, 3), (2, 0, 1, 12), 't'),\n",
       " ((5, 0, 3), (2, 0, 1, 12), 'ct'),\n",
       " ((5, 0, 3), (2, 0, 2, 12), 'n'),\n",
       " ((5, 0, 3), (2, 0, 2, 12), 'c'),\n",
       " ((5, 0, 3), (2, 0, 2, 12), 't'),\n",
       " ((5, 0, 3), (2, 0, 2, 12), 'ct')]"
      ]
     },
     "execution_count": 34,
     "metadata": {},
     "output_type": "execute_result"
    }
   ],
   "source": [
    "import itertools\n",
    "\n",
    "# Posibles valores en lo que pueden variar los parámetros de un SARIMAX\n",
    "# Parte no estacional\n",
    "p = [0, 1, 2, 3, 4, 5]\n",
    "d = [0]\n",
    "q = [0, 1, 2, 3]\n",
    "# Parte estacional\n",
    "P = [0, 1, 2]\n",
    "D = [0]\n",
    "Q = [0, 1, 2]\n",
    "# Tipo de tendencia\n",
    "t = ['n', 'c', 't', 'ct']\n",
    "\n",
    "# Explorar función itertools.product\n",
    "params_no_estacionales = itertools.product(p, d, q)\n",
    "params_estacionales = [(x[0], x[1], x[2], 12) for x in list(itertools.product(P, D, Q))]\n",
    "\n",
    "# Diferentes conmbinaciones\n",
    "sarimax_params = list(itertools.product(params_no_estacionales, params_estacionales, t))\n",
    "\n",
    "sarimax_params"
   ]
  },
  {
   "cell_type": "code",
   "execution_count": 35,
   "id": "fae623a7",
   "metadata": {},
   "outputs": [
    {
     "data": {
      "text/plain": [
       "864"
      ]
     },
     "execution_count": 35,
     "metadata": {},
     "output_type": "execute_result"
    }
   ],
   "source": [
    "len(sarimax_params)"
   ]
  },
  {
   "cell_type": "markdown",
   "id": "0a8a9ada",
   "metadata": {},
   "source": [
    "# 4. Transformación/escalado de variable de interés\n",
    "\n",
    "## a). Transformación logarítmica/sqtr"
   ]
  },
  {
   "cell_type": "code",
   "execution_count": 36,
   "id": "250935c4",
   "metadata": {},
   "outputs": [
    {
     "data": {
      "text/plain": [
       "array([[<AxesSubplot:title={'center':'y'}>]], dtype=object)"
      ]
     },
     "execution_count": 36,
     "metadata": {},
     "output_type": "execute_result"
    },
    {
     "data": {
      "image/png": "[encoded data removed]",
      "text/plain": [
       "<Figure size 432x288 with 1 Axes>"
      ]
     },
     "metadata": {
      "needs_background": "light"
     },
     "output_type": "display_data"
    }
   ],
   "source": [
    "# Obtener histograma con la transformación logarítmica y sqrt\n",
    "timeseries.hist(bins = 50)"
   ]
  },
  {
   "cell_type": "code",
   "execution_count": 41,
   "id": "bf0f872a",
   "metadata": {},
   "outputs": [
    {
     "data": {
      "text/html": [
       "<div>\n",
       "<style scoped>\n",
       "    .dataframe tbody tr th:only-of-type {\n",
       "        vertical-align: middle;\n",
       "    }\n",
       "\n",
       "    .dataframe tbody tr th {\n",
       "        vertical-align: top;\n",
       "    }\n",
       "\n",
       "    .dataframe thead th {\n",
       "        text-align: right;\n",
       "    }\n",
       "</style>\n",
       "<table border=\"1\" class=\"dataframe\">\n",
       "  <thead>\n",
       "    <tr style=\"text-align: right;\">\n",
       "      <th></th>\n",
       "      <th>y</th>\n",
       "      <th>ln_y</th>\n",
       "      <th>sqrt_y</th>\n",
       "    </tr>\n",
       "    <tr>\n",
       "      <th>date</th>\n",
       "      <th></th>\n",
       "      <th></th>\n",
       "      <th></th>\n",
       "    </tr>\n",
       "  </thead>\n",
       "  <tbody>\n",
       "    <tr>\n",
       "      <th>2012-01-01 00:00:00</th>\n",
       "      <td>7926.529376</td>\n",
       "      <td>8.977971</td>\n",
       "      <td>89.031058</td>\n",
       "    </tr>\n",
       "    <tr>\n",
       "      <th>2012-01-01 01:00:00</th>\n",
       "      <td>7901.826990</td>\n",
       "      <td>8.974849</td>\n",
       "      <td>88.892221</td>\n",
       "    </tr>\n",
       "    <tr>\n",
       "      <th>2012-01-01 02:00:00</th>\n",
       "      <td>7255.721350</td>\n",
       "      <td>8.889546</td>\n",
       "      <td>85.180522</td>\n",
       "    </tr>\n",
       "    <tr>\n",
       "      <th>2012-01-01 03:00:00</th>\n",
       "      <td>6792.503352</td>\n",
       "      <td>8.823575</td>\n",
       "      <td>82.416645</td>\n",
       "    </tr>\n",
       "    <tr>\n",
       "      <th>2012-01-01 04:00:00</th>\n",
       "      <td>6635.984460</td>\n",
       "      <td>8.800262</td>\n",
       "      <td>81.461552</td>\n",
       "    </tr>\n",
       "  </tbody>\n",
       "</table>\n",
       "</div>"
      ],
      "text/plain": [
       "                               y      ln_y     sqrt_y\n",
       "date                                                 \n",
       "2012-01-01 00:00:00  7926.529376  8.977971  89.031058\n",
       "2012-01-01 01:00:00  7901.826990  8.974849  88.892221\n",
       "2012-01-01 02:00:00  7255.721350  8.889546  85.180522\n",
       "2012-01-01 03:00:00  6792.503352  8.823575  82.416645\n",
       "2012-01-01 04:00:00  6635.984460  8.800262  81.461552"
      ]
     },
     "execution_count": 41,
     "metadata": {},
     "output_type": "execute_result"
    }
   ],
   "source": [
    "timeseries['ln_y'] = np.log(timeseries['y'])\n",
    "timeseries['sqrt_y'] = np.sqrt(timeseries['y'])\n",
    "timeseries.head()"
   ]
  },
  {
   "cell_type": "code",
   "execution_count": 53,
   "id": "bcd55e38",
   "metadata": {},
   "outputs": [
    {
     "data": {
      "image/png": "[encoded data removed]",
      "text/plain": [
       "<Figure size 720x288 with 3 Axes>"
      ]
     },
     "metadata": {
      "needs_background": "light"
     },
     "output_type": "display_data"
    }
   ],
   "source": [
    "# Calcular el boxplot antes y después de la transformación\n",
    "fig, ax = plt.subplots(1, 3, figsize=(10,4))\n",
    "\n",
    "timeseries['y'].to_frame('y').boxplot(ax=ax[0])\n",
    "ax[0].set_title('Serie original')\n",
    "\n",
    "timeseries['ln_y'].to_frame('ln_y').boxplot(ax=ax[1])\n",
    "ax[1].set_title('Serie transformada LN')\n",
    "\n",
    "timeseries['sqrt_y'].to_frame('sqrt_y').boxplot(ax=ax[2])\n",
    "ax[1].set_title('Serie transformada sqrt')\n",
    "\n",
    "plt.show()"
   ]
  },
  {
   "cell_type": "markdown",
   "id": "85f43047",
   "metadata": {},
   "source": [
    "## b). Transformación de box-cox, yeo-johnson"
   ]
  },
  {
   "cell_type": "code",
   "execution_count": 48,
   "id": "a5fabde4",
   "metadata": {},
   "outputs": [
    {
     "data": {
      "text/plain": [
       "array([[<AxesSubplot:title={'center':'box_cox'}>]], dtype=object)"
      ]
     },
     "execution_count": 48,
     "metadata": {},
     "output_type": "execute_result"
    },
    {
     "data": {
      "image/png": "[encoded data removed]",
      "text/plain": [
       "<Figure size 432x288 with 1 Axes>"
      ]
     },
     "metadata": {
      "needs_background": "light"
     },
     "output_type": "display_data"
    }
   ],
   "source": [
    "from sklearn.preprocessing import power_transform\n",
    "\n",
    "vals_bc = power_transform(timeseries['y'].to_numpy().reshape(-1, 1), method='box-cox')\n",
    "\n",
    "timeseries['box_cox'] = vals_bc\n",
    "\n",
    "transform_bc = pd.DataFrame({'box_cox': vals_bc.squeeze()})\n",
    "transform_bc.hist(bins=50)"
   ]
  },
  {
   "cell_type": "code",
   "execution_count": 55,
   "id": "611764c6",
   "metadata": {},
   "outputs": [
    {
     "data": {
      "text/plain": [
       "array([[<AxesSubplot:title={'center':'yeo_johnson'}>]], dtype=object)"
      ]
     },
     "execution_count": 55,
     "metadata": {},
     "output_type": "execute_result"
    },
    {
     "data": {
      "image/png": "[encoded data removed]",
      "text/plain": [
       "<Figure size 432x288 with 1 Axes>"
      ]
     },
     "metadata": {
      "needs_background": "light"
     },
     "output_type": "display_data"
    }
   ],
   "source": [
    "vals_yj = power_transform(timeseries['y'].to_numpy().reshape(-1, 1), method='yeo-johnson')\n",
    "\n",
    "timeseries['yeo_jhon'] = vals_yj\n",
    "\n",
    "transform_yj = pd.DataFrame({'yeo_johnson': vals_yj.squeeze()})\n",
    "transform_yj.hist(bins=50)"
   ]
  },
  {
   "cell_type": "code",
   "execution_count": 56,
   "id": "ed8700e5",
   "metadata": {},
   "outputs": [
    {
     "data": {
      "image/png": "[encoded data removed]",
      "text/plain": [
       "<Figure size 720x288 with 3 Axes>"
      ]
     },
     "metadata": {
      "needs_background": "light"
     },
     "output_type": "display_data"
    }
   ],
   "source": [
    "# Calcular el boxplot antes y después de la transformación\n",
    "fig, ax = plt.subplots(1, 3, figsize=(10,4))\n",
    "\n",
    "timeseries['y'].to_frame('y').boxplot(ax=ax[0])\n",
    "ax[0].set_title('Serie original')\n",
    "\n",
    "timeseries['box_cox'].to_frame('box_cox').boxplot(ax=ax[1])\n",
    "ax[1].set_title('Serie transformada BoxCox')\n",
    "\n",
    "timeseries['yeo_jhon'].to_frame('yeo_jhon').boxplot(ax=ax[2])\n",
    "ax[1].set_title('Serie transformada Yeo-Jhonson')\n",
    "\n",
    "plt.show()"
   ]
  },
  {
   "cell_type": "markdown",
   "id": "58144269",
   "metadata": {},
   "source": [
    "## c). Escalado usando `MinMaxScaler` y `StandardScaler`"
   ]
  },
  {
   "cell_type": "code",
   "execution_count": 58,
   "id": "13e0bbb4",
   "metadata": {},
   "outputs": [
    {
     "data": {
      "text/plain": [
       "array([[0.29248867],\n",
       "       [0.29033783],\n",
       "       [0.23408118],\n",
       "       ...,\n",
       "       [0.47518896],\n",
       "       [0.45241439],\n",
       "       [0.        ]])"
      ]
     },
     "execution_count": 58,
     "metadata": {},
     "output_type": "execute_result"
    }
   ],
   "source": [
    "from sklearn.preprocessing import MinMaxScaler\n",
    "from sklearn.preprocessing import StandardScaler\n",
    "from scipy.stats import normaltest\n",
    "\n",
    "# MinMaxScaler\n",
    "mm_scaler = MinMaxScaler()\n",
    "vals_mm = mm_scaler.fit_transform(timeseries['y'].to_frame())\n",
    "vals_mm"
   ]
  },
  {
   "cell_type": "code",
   "execution_count": 59,
   "id": "598e09f7",
   "metadata": {},
   "outputs": [
    {
     "data": {
      "text/plain": [
       "array([[<AxesSubplot:title={'center':'MinMaxScaler'}>]], dtype=object)"
      ]
     },
     "execution_count": 59,
     "metadata": {},
     "output_type": "execute_result"
    },
    {
     "data": {
      "image/png": "[encoded data removed]",
      "text/plain": [
       "<Figure size 432x288 with 1 Axes>"
      ]
     },
     "metadata": {
      "needs_background": "light"
     },
     "output_type": "display_data"
    }
   ],
   "source": [
    "pd.DataFrame({'MinMaxScaler': vals_mm.squeeze()}).hist(bins=50)"
   ]
  },
  {
   "cell_type": "code",
   "execution_count": 60,
   "id": "7c63deed",
   "metadata": {},
   "outputs": [],
   "source": [
    "timeseries['mm_scaler'] = vals_mm.squeeze()"
   ]
  },
  {
   "cell_type": "code",
   "execution_count": 61,
   "id": "e23b6be0",
   "metadata": {},
   "outputs": [
    {
     "data": {
      "text/plain": [
       "array([[<AxesSubplot:title={'center':'StandartScaler'}>]], dtype=object)"
      ]
     },
     "execution_count": 61,
     "metadata": {},
     "output_type": "execute_result"
    },
    {
     "data": {
      "image/png": "[encoded data removed]",
      "text/plain": [
       "<Figure size 432x288 with 1 Axes>"
      ]
     },
     "metadata": {
      "needs_background": "light"
     },
     "output_type": "display_data"
    }
   ],
   "source": [
    "scaler = StandardScaler()\n",
    "vals_ss = scaler.fit_transform(timeseries['y'].values.reshape(-1, 1))\n",
    "pd.DataFrame({'StandarScaler': vals_ss.squeeze()}).hist(bins=50)"
   ]
  },
  {
   "cell_type": "code",
   "execution_count": 62,
   "id": "ee4c6356",
   "metadata": {},
   "outputs": [],
   "source": [
    "timeseries['std_scaler'] = vals_ss.squeeze()"
   ]
  },
  {
   "cell_type": "code",
   "execution_count": 63,
   "id": "79d9f043",
   "metadata": {},
   "outputs": [
    {
     "data": {
      "text/html": [
       "<div>\n",
       "<style scoped>\n",
       "    .dataframe tbody tr th:only-of-type {\n",
       "        vertical-align: middle;\n",
       "    }\n",
       "\n",
       "    .dataframe tbody tr th {\n",
       "        vertical-align: top;\n",
       "    }\n",
       "\n",
       "    .dataframe thead th {\n",
       "        text-align: right;\n",
       "    }\n",
       "</style>\n",
       "<table border=\"1\" class=\"dataframe\">\n",
       "  <thead>\n",
       "    <tr style=\"text-align: right;\">\n",
       "      <th></th>\n",
       "      <th>y</th>\n",
       "      <th>ln_y</th>\n",
       "      <th>sqrt_y</th>\n",
       "      <th>box_cox</th>\n",
       "      <th>yeo_jhon</th>\n",
       "      <th>mm_scaler</th>\n",
       "      <th>std_scaler</th>\n",
       "    </tr>\n",
       "    <tr>\n",
       "      <th>date</th>\n",
       "      <th></th>\n",
       "      <th></th>\n",
       "      <th></th>\n",
       "      <th></th>\n",
       "      <th></th>\n",
       "      <th></th>\n",
       "      <th></th>\n",
       "    </tr>\n",
       "  </thead>\n",
       "  <tbody>\n",
       "    <tr>\n",
       "      <th>2012-01-01 00:00:00</th>\n",
       "      <td>7926.529376</td>\n",
       "      <td>8.977971</td>\n",
       "      <td>89.031058</td>\n",
       "      <td>-0.880572</td>\n",
       "      <td>-0.880573</td>\n",
       "      <td>0.292489</td>\n",
       "      <td>-0.884287</td>\n",
       "    </tr>\n",
       "    <tr>\n",
       "      <th>2012-01-01 01:00:00</th>\n",
       "      <td>7901.826990</td>\n",
       "      <td>8.974849</td>\n",
       "      <td>88.892221</td>\n",
       "      <td>-0.898247</td>\n",
       "      <td>-0.898248</td>\n",
       "      <td>0.290338</td>\n",
       "      <td>-0.898456</td>\n",
       "    </tr>\n",
       "    <tr>\n",
       "      <th>2012-01-01 02:00:00</th>\n",
       "      <td>7255.721350</td>\n",
       "      <td>8.889546</td>\n",
       "      <td>85.180522</td>\n",
       "      <td>-1.385386</td>\n",
       "      <td>-1.385385</td>\n",
       "      <td>0.234081</td>\n",
       "      <td>-1.269049</td>\n",
       "    </tr>\n",
       "    <tr>\n",
       "      <th>2012-01-01 03:00:00</th>\n",
       "      <td>6792.503352</td>\n",
       "      <td>8.823575</td>\n",
       "      <td>82.416645</td>\n",
       "      <td>-1.767585</td>\n",
       "      <td>-1.767582</td>\n",
       "      <td>0.193749</td>\n",
       "      <td>-1.534742</td>\n",
       "    </tr>\n",
       "    <tr>\n",
       "      <th>2012-01-01 04:00:00</th>\n",
       "      <td>6635.984460</td>\n",
       "      <td>8.800262</td>\n",
       "      <td>81.461552</td>\n",
       "      <td>-1.903797</td>\n",
       "      <td>-1.903793</td>\n",
       "      <td>0.180120</td>\n",
       "      <td>-1.624518</td>\n",
       "    </tr>\n",
       "  </tbody>\n",
       "</table>\n",
       "</div>"
      ],
      "text/plain": [
       "                               y      ln_y     sqrt_y   box_cox  yeo_jhon  \\\n",
       "date                                                                        \n",
       "2012-01-01 00:00:00  7926.529376  8.977971  89.031058 -0.880572 -0.880573   \n",
       "2012-01-01 01:00:00  7901.826990  8.974849  88.892221 -0.898247 -0.898248   \n",
       "2012-01-01 02:00:00  7255.721350  8.889546  85.180522 -1.385386 -1.385385   \n",
       "2012-01-01 03:00:00  6792.503352  8.823575  82.416645 -1.767585 -1.767582   \n",
       "2012-01-01 04:00:00  6635.984460  8.800262  81.461552 -1.903797 -1.903793   \n",
       "\n",
       "                     mm_scaler  std_scaler  \n",
       "date                                        \n",
       "2012-01-01 00:00:00   0.292489   -0.884287  \n",
       "2012-01-01 01:00:00   0.290338   -0.898456  \n",
       "2012-01-01 02:00:00   0.234081   -1.269049  \n",
       "2012-01-01 03:00:00   0.193749   -1.534742  \n",
       "2012-01-01 04:00:00   0.180120   -1.624518  "
      ]
     },
     "execution_count": 63,
     "metadata": {},
     "output_type": "execute_result"
    }
   ],
   "source": [
    "timeseries.head()"
   ]
  },
  {
   "cell_type": "markdown",
   "id": "60ff1438",
   "metadata": {},
   "source": [
    "# 5. Con los datos escalados encontrar el conjunto más adecuado de parámetros"
   ]
  },
  {
   "cell_type": "code",
   "execution_count": 67,
   "id": "61672bce",
   "metadata": {},
   "outputs": [
    {
     "data": {
      "text/html": [
       "<div>\n",
       "<style scoped>\n",
       "    .dataframe tbody tr th:only-of-type {\n",
       "        vertical-align: middle;\n",
       "    }\n",
       "\n",
       "    .dataframe tbody tr th {\n",
       "        vertical-align: top;\n",
       "    }\n",
       "\n",
       "    .dataframe thead th {\n",
       "        text-align: right;\n",
       "    }\n",
       "</style>\n",
       "<table border=\"1\" class=\"dataframe\">\n",
       "  <thead>\n",
       "    <tr style=\"text-align: right;\">\n",
       "      <th></th>\n",
       "      <th>params</th>\n",
       "      <th>AIC</th>\n",
       "      <th>BIC</th>\n",
       "      <th>LLF</th>\n",
       "    </tr>\n",
       "  </thead>\n",
       "  <tbody>\n",
       "    <tr>\n",
       "      <th>0</th>\n",
       "      <td>((1, 0, 1), (1, 0, 2, 12), 'n')</td>\n",
       "      <td>-2077.297495</td>\n",
       "      <td>-2040.203816</td>\n",
       "      <td>1044.648747</td>\n",
       "    </tr>\n",
       "    <tr>\n",
       "      <th>1</th>\n",
       "      <td>((1, 0, 1), (1, 0, 2, 12), 'c')</td>\n",
       "      <td>-2075.417592</td>\n",
       "      <td>-2032.141634</td>\n",
       "      <td>1044.708796</td>\n",
       "    </tr>\n",
       "    <tr>\n",
       "      <th>2</th>\n",
       "      <td>((1, 0, 1), (1, 0, 2, 12), 't')</td>\n",
       "      <td>1122.805427</td>\n",
       "      <td>1166.081385</td>\n",
       "      <td>-554.402713</td>\n",
       "    </tr>\n",
       "    <tr>\n",
       "      <th>3</th>\n",
       "      <td>((1, 0, 1), (1, 0, 2, 12), 'ct')</td>\n",
       "      <td>1124.410215</td>\n",
       "      <td>1173.868453</td>\n",
       "      <td>-554.205108</td>\n",
       "    </tr>\n",
       "    <tr>\n",
       "      <th>4</th>\n",
       "      <td>((1, 0, 1), (2, 0, 0, 12), 'n')</td>\n",
       "      <td>-5202.005931</td>\n",
       "      <td>-5171.094532</td>\n",
       "      <td>2606.002965</td>\n",
       "    </tr>\n",
       "    <tr>\n",
       "      <th>5</th>\n",
       "      <td>((1, 0, 1), (2, 0, 0, 12), 'c')</td>\n",
       "      <td>-5200.197344</td>\n",
       "      <td>-5163.103666</td>\n",
       "      <td>2606.098672</td>\n",
       "    </tr>\n",
       "    <tr>\n",
       "      <th>6</th>\n",
       "      <td>((1, 0, 1), (2, 0, 0, 12), 't')</td>\n",
       "      <td>-1414.795414</td>\n",
       "      <td>-1377.701736</td>\n",
       "      <td>713.397707</td>\n",
       "    </tr>\n",
       "    <tr>\n",
       "      <th>7</th>\n",
       "      <td>((1, 0, 1), (2, 0, 0, 12), 'ct')</td>\n",
       "      <td>-1413.065939</td>\n",
       "      <td>-1369.789981</td>\n",
       "      <td>713.53297</td>\n",
       "    </tr>\n",
       "    <tr>\n",
       "      <th>8</th>\n",
       "      <td>((1, 0, 1), (2, 0, 1, 12), 'n')</td>\n",
       "      <td>-5227.50713</td>\n",
       "      <td>-5190.413451</td>\n",
       "      <td>2619.753565</td>\n",
       "    </tr>\n",
       "    <tr>\n",
       "      <th>9</th>\n",
       "      <td>((1, 0, 1), (2, 0, 1, 12), 'c')</td>\n",
       "      <td>-5225.679046</td>\n",
       "      <td>-5182.403088</td>\n",
       "      <td>2619.839523</td>\n",
       "    </tr>\n",
       "    <tr>\n",
       "      <th>10</th>\n",
       "      <td>NaN</td>\n",
       "      <td>NaN</td>\n",
       "      <td>NaN</td>\n",
       "      <td>NaN</td>\n",
       "    </tr>\n",
       "  </tbody>\n",
       "</table>\n",
       "</div>"
      ],
      "text/plain": [
       "                              params          AIC          BIC          LLF\n",
       "0    ((1, 0, 1), (1, 0, 2, 12), 'n') -2077.297495 -2040.203816  1044.648747\n",
       "1    ((1, 0, 1), (1, 0, 2, 12), 'c') -2075.417592 -2032.141634  1044.708796\n",
       "2    ((1, 0, 1), (1, 0, 2, 12), 't')  1122.805427  1166.081385  -554.402713\n",
       "3   ((1, 0, 1), (1, 0, 2, 12), 'ct')  1124.410215  1173.868453  -554.205108\n",
       "4    ((1, 0, 1), (2, 0, 0, 12), 'n') -5202.005931 -5171.094532  2606.002965\n",
       "5    ((1, 0, 1), (2, 0, 0, 12), 'c') -5200.197344 -5163.103666  2606.098672\n",
       "6    ((1, 0, 1), (2, 0, 0, 12), 't') -1414.795414 -1377.701736   713.397707\n",
       "7   ((1, 0, 1), (2, 0, 0, 12), 'ct') -1413.065939 -1369.789981    713.53297\n",
       "8    ((1, 0, 1), (2, 0, 1, 12), 'n')  -5227.50713 -5190.413451  2619.753565\n",
       "9    ((1, 0, 1), (2, 0, 1, 12), 'c') -5225.679046 -5182.403088  2619.839523\n",
       "10                               NaN          NaN          NaN          NaN"
      ]
     },
     "execution_count": 67,
     "metadata": {},
     "output_type": "execute_result"
    }
   ],
   "source": [
    "# encuentre el 'conjunto más adecuado' de parámetros no estacionales y estacionales\n",
    "resultados = pd.DataFrame(columns=['params', 'AIC', 'BIC', 'LLF'], index = np.arange(0, 11))\n",
    "\n",
    "i = 0\n",
    "for par_no_season, par_season, trend in sarimax_params[200:210]:\n",
    "\n",
    "    mod = SARIMAX(\n",
    "        endog= timeseries['yeo_jhon'],\n",
    "        trend= trend,\n",
    "        order= par_no_season,\n",
    "        seasonal_order= par_season\n",
    "    )\n",
    "    results = mod.fit()\n",
    "\n",
    "    resultados.loc[i, 'params'] = str((par_no_season, par_season, trend))\n",
    "    resultados.loc[i, 'AIC'] = results.aic\n",
    "    resultados.loc[i, 'BIC'] = results.bic\n",
    "    resultados.loc[i, 'LLF'] = results.llf\n",
    "    i += 1\n",
    "\n",
    "    #print(f'AIC={results.aic}', f'BIC={results.bic}', f'Log-likelihood={results.llf}', sep='\\n')\n",
    "\n",
    "resultados"
   ]
  },
  {
   "cell_type": "code",
   "execution_count": null,
   "id": "af4daa1e",
   "metadata": {},
   "outputs": [],
   "source": [
    "# Luego de encontrar el conjunto más óptimo de parámetros ajustar de nuevo el modelo y adicionalmente poner \n",
    "# el parámetro de entrada enforce_stationary=True y enforce_invertibility=True (valor por defecto) a False.\n",
    "# Finalmente llamar el método plot_diagnostics() para analizar la distribución de los residuos"
   ]
  },
  {
   "cell_type": "markdown",
   "id": "63d7a768",
   "metadata": {},
   "source": [
    "**Parámetros de SARIMAX**\n",
    "- `dynamic`: También podemos obtener predicciones dinámicas `dynamic=True`. La predicción de un paso adelante utiliza los valores reales de los valores endógenos en cada paso para predecir el siguiente valor dentro de la muestra. Las predicciones dinámicas utilizan la predicción de un paso adelante hasta algún punto del conjunto de datos (especificado por el argumento dinámico); después de eso, los valores endógenos predichos anteriores se usan en lugar de los valores endógenos verdaderos para cada nuevo elemento predicho.\n",
    "- Si tiene `enforce_stationary=True` y `enforce_invertibility=True` (los valores predeterminados), entonces no es posible obtener un modelo no estacionario/no invertible.\n",
    "    Si los establece en False, simplemente devolvemos los resultados, ya sea que sean estacionarios/invertibles o no."
   ]
  },
  {
   "cell_type": "code",
   "execution_count": null,
   "id": "147fda70",
   "metadata": {},
   "outputs": [],
   "source": [
    "# Explorar el método predict\n",
    "results.predict(timeseries.shape[0], timeseries.shape[0])"
   ]
  },
  {
   "cell_type": "code",
   "execution_count": null,
   "id": "bd77f356",
   "metadata": {},
   "outputs": [],
   "source": [
    "# Explorar el método get_forecast y su método conf_int() y atributo predicted_mean\n",
    "forecast = results.get_forecast()\n",
    "\n",
    "forecast.conf_int(), forecast.predicted_mean"
   ]
  },
  {
   "cell_type": "code",
   "execution_count": null,
   "id": "399b9e28",
   "metadata": {},
   "outputs": [],
   "source": [
    "# Interactuar con las gráficas\n",
    "%matplotlib widget"
   ]
  },
  {
   "cell_type": "code",
   "execution_count": null,
   "id": "252ee176",
   "metadata": {},
   "outputs": [],
   "source": [
    "# Explorar el método get_prediction y su método conf_int(), y atributo predicted_mean\n",
    "# y graficar el error de predicción, la media de predicción y los datos observados\n",
    "import datetime\n",
    "\n",
    "prediction = results.get_prediction()\n"
   ]
  },
  {
   "cell_type": "code",
   "execution_count": null,
   "id": "a00b04da",
   "metadata": {},
   "outputs": [],
   "source": [
    "# Particionar la serie de tiempo en train y test y entrenar el modelo iterativamente usando un horizonte\n",
    "# de predicción. En cada paso de entrenamiento adicionar los valores nuevos del conjunto de test a train\n",
    "horizonte = 10\n",
    "y_train =\n",
    "y_test = \n",
    "\n",
    "y_pred = []\n",
    "\n",
    "for i in range(horizonte):\n",
    "\n",
    "\n",
    "pd.DataFrame({'y_test': y_test, 'pred':y_pred}).plot()"
   ]
  },
  {
   "cell_type": "markdown",
   "id": "0be151e6",
   "metadata": {},
   "source": [
    "# 6. Calcular métricas de errores\n",
    "\n",
    "$$\n",
    "MAPE = \\frac{1}{n}\\sum_{t=1}^n \\bigg|\\frac{\\text{Actual - Forecast}}{\\text{Actual}}\\bigg|\n",
    "$$\n",
    "y la desviación absoluta media (MAD)\n",
    "$$\n",
    "MAD = \\frac{1}{n}\\sum_{t=1}^n \\big|\\text{Actual - Forecast} \\big|.\n",
    "$$\n"
   ]
  },
  {
   "cell_type": "code",
   "execution_count": null,
   "id": "6542229b",
   "metadata": {},
   "outputs": [],
   "source": []
  },
  {
   "cell_type": "markdown",
   "id": "71e07585",
   "metadata": {},
   "source": [
    "# <font color= Red> Tarea 3\n",
    "\n",
    "Condensar todos los procedimientos realizados en esta clase donde se implementen los métodos necesarios para crear un correcto flujo de lectura de datos, análisis, ajuste de parámetros, predicción y métricas de errores para un conjunto de datos dado. Algo como lo siguiente:"
   ]
  },
  {
   "cell_type": "code",
   "execution_count": null,
   "id": "5ec6161c",
   "metadata": {},
   "outputs": [],
   "source": [
    "class LinearForecast:\n",
    "    def __init__(self, atributos_del_contructor):\n",
    "        \n",
    "    def adf_test(self):\n",
    "        \n",
    "    def plot_acf_pac(self):\n",
    "        \n",
    "        .\n",
    "        .\n",
    "        ."
   ]
  },
  {
   "cell_type": "markdown",
   "id": "3864f737",
   "metadata": {},
   "source": [
    "Implementar los métodos y las lógicas que consideren pertinentes, como de igual forma las posibles variables a introducir en el constructor de la clase.\n",
    "\n",
    "Posteriormente, utilizar la clase anteriormente creada para generar un modelo SARIMAX para el siguiente conjunto de datos:\n",
    "https://github.com/quaesito/time-series-forecast-sarimax-prophet/blob/master/A4.xlsx?raw=true"
   ]
  },
  {
   "cell_type": "markdown",
   "id": "50fb7922",
   "metadata": {},
   "source": [
    "<script>\n",
    "  $(document).ready(function(){\n",
    "    $('div.prompt').hide();\n",
    "    $('div.back-to-top').hide();\n",
    "    $('nav#menubar').hide();\n",
    "    $('.breadcrumb').hide();\n",
    "    $('.hidden-print').hide();\n",
    "  });\n",
    "</script>\n",
    "\n",
    "<footer id=\"attribution\" style=\"float:right; color:#808080; background:#fff;\">\n",
    "Created with Jupyter by Oscar David Jaramillo Zuluaga.\n",
    "</footer>"
   ]
  }
 ],
 "metadata": {
  "kernelspec": {
   "display_name": "base",
   "language": "python",
   "name": "python3"
  },
  "language_info": {
   "codemirror_mode": {
    "name": "ipython",
    "version": 3
   },
   "file_extension": ".py",
   "mimetype": "text/x-python",
   "name": "python",
   "nbconvert_exporter": "python",
   "pygments_lexer": "ipython3",
   "version": "3.9.7"
  },
  "vscode": {
   "interpreter": {
    "hash": "3e3763a57b4ffe0d06e963ec4b7f8ef3a748cbfdb342037439726ee83e94c05b"
   }
  }
 },
 "nbformat": 4,
 "nbformat_minor": 5
}
